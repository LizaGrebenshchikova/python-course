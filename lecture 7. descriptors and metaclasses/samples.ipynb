{
 "cells": [
  {
   "cell_type": "markdown",
   "metadata": {},
   "source": [
    "# Свойства"
   ]
  },
  {
   "cell_type": "markdown",
   "metadata": {},
   "source": [
    "#### Мотивация"
   ]
  },
  {
   "cell_type": "code",
   "execution_count": 1,
   "metadata": {
    "collapsed": false
   },
   "outputs": [
    {
     "name": "stdout",
     "output_type": "stream",
     "text": [
      "Please, set val with conditions: 1 < val < 1000\n",
      "500\n",
      "No more\n"
     ]
    }
   ],
   "source": [
    " class Limited(object):\n",
    "\n",
    "    def __init__(self, lo, hi, label):\n",
    "        self.lo = lo\n",
    "        self.hi = hi\n",
    "        self.label = label\n",
    "        self.__val = None\n",
    "\n",
    "    def get_val(self):\n",
    "        \"\"\"Это свойство val.\"\"\"\n",
    "        return self.__val\n",
    "\n",
    "    def set_val(self, value):\n",
    "        if not (self.lo < value < self.hi):\n",
    "            raise ValueError(\"Please, set {label} with conditions: {lo} < {label} < {hi}\".format(**self.__dict__))\n",
    "        self.__val = value\n",
    "\n",
    "    def del_val(self):\n",
    "        self.__val = 'No more'\n",
    "\n",
    "pass\n",
    "\n",
    "sv = Limited(1, 1000, \"val\")\n",
    "try:\n",
    "    sv.set_val(2000)\n",
    "except ValueError as e:\n",
    "    print(e)\n",
    "\n",
    "sv.set_val(500)\n",
    "print(sv.get_val())\n",
    "sv.del_val()\n",
    "print(sv.get_val())"
   ]
  },
  {
   "cell_type": "markdown",
   "metadata": {},
   "source": [
    "#### property"
   ]
  },
  {
   "cell_type": "code",
   "execution_count": 2,
   "metadata": {
    "collapsed": false
   },
   "outputs": [
    {
     "name": "stdout",
     "output_type": "stream",
     "text": [
      "Please, set x with conditions: 1 < x < 1000\n",
      "500\n",
      "No more\n"
     ]
    }
   ],
   "source": [
    " class Limited(object):\n",
    "\n",
    "    def __init__(self, lo, hi, label):\n",
    "        self.lo = lo\n",
    "        self.hi = hi\n",
    "        self.label = label\n",
    "        self.__val = None\n",
    "\n",
    "    def get_val(self):\n",
    "        return self.__val\n",
    "\n",
    "    def set_val(self, value):\n",
    "        if not (self.lo < value < self.hi):\n",
    "            raise ValueError(\"Please, set {label} with conditions: {lo} < {label} < {hi}\".format(**self.__dict__))\n",
    "        self.__val = value\n",
    "\n",
    "    def del_val(self):\n",
    "        self.__val = 'No more'\n",
    "\n",
    "    val = property(get_val, set_val, del_val, \"Это свойство val.\")\n",
    "\n",
    "pass\n",
    "\n",
    "sv = Limited(1, 1000, \"x\")\n",
    "try:\n",
    "    sv.val = 2000\n",
    "except ValueError as e:\n",
    "    print(e)\n",
    "\n",
    "sv.val = 500\n",
    "print(sv.val)\n",
    "del(sv.val)\n",
    "print(sv.val)"
   ]
  },
  {
   "cell_type": "markdown",
   "metadata": {},
   "source": [
    "#### @property"
   ]
  },
  {
   "cell_type": "code",
   "execution_count": 3,
   "metadata": {
    "collapsed": false
   },
   "outputs": [
    {
     "name": "stdout",
     "output_type": "stream",
     "text": [
      "Please, set x with conditions: 1 < x < 1000\n",
      "500\n",
      "No more\n"
     ]
    }
   ],
   "source": [
    "class Limited(object):\n",
    "\n",
    "    def __init__(self, lo, hi, label):\n",
    "        self.lo = lo\n",
    "        self.hi = hi\n",
    "        self.label = label\n",
    "        self.__val = None\n",
    "    \n",
    "    @property\n",
    "    def val(self):\n",
    "        \"Это свойство val.\"\n",
    "        return self.__val\n",
    "\n",
    "    @val.setter\n",
    "    def val(self, value):\n",
    "        if not (self.lo < value < self.hi):\n",
    "            raise ValueError(\"Please, set {label} with conditions: {lo} < {label} < {hi}\".format(**self.__dict__))\n",
    "        self.__val = value\n",
    "    \n",
    "    @val.deleter\n",
    "    def val(self):\n",
    "        self.__val = 'No more'\n",
    "\n",
    "pass\n",
    "\n",
    "sv = Limited(1, 1000, \"x\")\n",
    "try:\n",
    "    sv.val = 2000\n",
    "except ValueError as e:\n",
    "    print(e)\n",
    "\n",
    "sv.val = 500\n",
    "print(sv.val)\n",
    "del(sv.val)\n",
    "print(sv.val)"
   ]
  },
  {
   "cell_type": "markdown",
   "metadata": {},
   "source": [
    "#### Usage"
   ]
  },
  {
   "cell_type": "code",
   "execution_count": 4,
   "metadata": {
    "collapsed": false
   },
   "outputs": [
    {
     "data": {
      "text/plain": [
       "'John Doe'"
      ]
     },
     "execution_count": 4,
     "metadata": {},
     "output_type": "execute_result"
    }
   ],
   "source": [
    "class Person(object):\n",
    "    def __init__(self, name, surname):\n",
    "        self.name = name\n",
    "        self.surname = surname\n",
    "\n",
    "    @property\n",
    "    def fullname(self):\n",
    "        return '{name} {surname}'.format(**self.__dict__)\n",
    "    \n",
    "\n",
    "p = Person('John', 'Doe')\n",
    "p.fullname"
   ]
  },
  {
   "cell_type": "markdown",
   "metadata": {},
   "source": [
    "# Дескрипторы"
   ]
  },
  {
   "cell_type": "markdown",
   "metadata": {},
   "source": [
    "#### Мотивация"
   ]
  },
  {
   "cell_type": "code",
   "execution_count": 5,
   "metadata": {
    "collapsed": true
   },
   "outputs": [],
   "source": [
    "class Limited(object):\n",
    "\n",
    "    def __init__(self, lo, hi, label):\n",
    "        self.lo = lo\n",
    "        self.hi = hi\n",
    "        self.label = label\n",
    "        self.__val = None\n",
    "\n",
    "    @property\n",
    "    def val(self):\n",
    "        \"Это свойство val.\"\n",
    "        return self.__val\n",
    "\n",
    "    @val.setter\n",
    "    def val(self, value):\n",
    "        if not (self.lo < value < self.hi):\n",
    "            raise ValueError(\"Please, set {label} with conditions: {lo} < {label} < {hi}\".format(**self.__dict__))\n",
    "        self.__val = value\n",
    "    \n",
    "    @val.deleter\n",
    "    def val(self):\n",
    "        self.__val = 'No more'\n",
    "    \n",
    "    @property\n",
    "    def val2(self):\n",
    "        \"Это свойство val2.\"\n",
    "        return self.__val2\n",
    "\n",
    "    @val.setter\n",
    "    def val(self, value):\n",
    "        if not (self.lo < value < self.hi):\n",
    "            raise ValueError(\"Please, set {label} with conditions: {lo} < {label} < {hi}\".format(**self.__dict__))\n",
    "        self.__val2 = value\n",
    "    \n",
    "    @val2.deleter\n",
    "    def val2(self):\n",
    "        self.__val2 = 'No more'\n",
    "    \n",
    "pass"
   ]
  },
  {
   "cell_type": "markdown",
   "metadata": {},
   "source": [
    "#### Что-то тут нечисто :)"
   ]
  },
  {
   "cell_type": "code",
   "execution_count": 6,
   "metadata": {
    "collapsed": false
   },
   "outputs": [
    {
     "name": "stdout",
     "output_type": "stream",
     "text": [
      "100.0 <class 'float'> <property object at 0x000000B9A48A5908> <class 'property'>\n"
     ]
    }
   ],
   "source": [
    "class Limited(object):\n",
    "\n",
    "    def __init__(self, lo, hi, label):\n",
    "        self.lo = lo\n",
    "        self.hi = hi\n",
    "        self.label = label\n",
    "        self.__val = None\n",
    "    \n",
    "    @property\n",
    "    def val(self):\n",
    "        \"Это свойство val.\"\n",
    "        return self.__val\n",
    "\n",
    "    @val.setter\n",
    "    def val(self, value):\n",
    "        if not (self.lo < value < self.hi):\n",
    "            raise ValueError(\"Please, set {label} with conditions: {lo} < {label} < {hi}\".format(**self.__dict__))\n",
    "        self.__val = value\n",
    "    \n",
    "    @val.deleter\n",
    "    def val(self):\n",
    "        self.__val = 'No more'\n",
    "\n",
    "pass\n",
    "\n",
    "x = Limited(1, 1000, \"x\")\n",
    "x.val = 1e2\n",
    "print(x.val, type(x.val), Limited.val, type(Limited.val))"
   ]
  },
  {
   "cell_type": "markdown",
   "metadata": {},
   "source": [
    "#### Дескриптор Limited"
   ]
  },
  {
   "cell_type": "code",
   "execution_count": 7,
   "metadata": {
    "collapsed": false
   },
   "outputs": [],
   "source": [
    "class Limited(object):\n",
    "\n",
    "    def __init__(self, lo, hi):\n",
    "        pass\n",
    "\n",
    "    def __get__(self, instance, owner):\n",
    "        pass\n",
    "\n",
    "    def __set__(self, instance, value):\n",
    "        pass\n",
    "\n",
    "    def __delete__(self, instance):\n",
    "        pass\n",
    "\n",
    "pass\n",
    "\n",
    "class Summator(object):\n",
    "    x = Limited(1, 1000)\n",
    "    y = Limited(0, 1)\n",
    "\n",
    "summator = Summator()\n",
    "summator.x = 1e2\n",
    "summator.x"
   ]
  },
  {
   "cell_type": "markdown",
   "metadata": {},
   "source": [
    "#### Небольшое исследование"
   ]
  },
  {
   "cell_type": "code",
   "execution_count": 8,
   "metadata": {
    "collapsed": false
   },
   "outputs": [
    {
     "name": "stdout",
     "output_type": "stream",
     "text": [
      "__set__\n",
      "(<__main__.Test object at 0x000000B9A56F9748>, 5)\n",
      "<__main__.Trace object at 0x000000B9A56F9F60>\n",
      "__get__\n",
      "(<__main__.Test object at 0x000000B9A56F9748>, <class '__main__.Test'>)\n",
      "None\n",
      "__delete__\n",
      "(<__main__.Test object at 0x000000B9A56F9748>,)\n"
     ]
    }
   ],
   "source": [
    "class Trace(object):\n",
    "\n",
    "    def __set__(self, *args):\n",
    "        print('__set__', args, sep=\"\\n\")\n",
    "\n",
    "    def __get__(self, *args):\n",
    "        print(self, '__get__', args, sep=\"\\n\")\n",
    "\n",
    "    def __delete__(self, *args):\n",
    "        print('__delete__', args, sep=\"\\n\")\n",
    "\n",
    "class Test(object):\n",
    "    attr = Trace()\n",
    "\n",
    "t = Test()\n",
    "t.attr = 5\n",
    "print(t.attr)\n",
    "del t.attr"
   ]
  },
  {
   "cell_type": "code",
   "execution_count": 9,
   "metadata": {
    "collapsed": false
   },
   "outputs": [
    {
     "name": "stdout",
     "output_type": "stream",
     "text": [
      "<__main__.Trace object at 0x000000B9A56F9C50>\n"
     ]
    }
   ],
   "source": [
    "class Trace(object):\n",
    "\n",
    "    def __set__(self, *args):\n",
    "        print('__set__', args)\n",
    "\n",
    "    def __get__(self, *args):\n",
    "        print(self, '__get__', args)\n",
    "\n",
    "    def __delete__(self, *args):\n",
    "        print('__delete__', args)\n",
    "pass\n",
    "\n",
    "\n",
    "class Test(object):\n",
    "    def __init__(self):\n",
    "        self.attr = Trace()\n",
    "\n",
    "pass\n",
    "\n",
    "\n",
    "t = Test()\n",
    "print(t.attr)"
   ]
  },
  {
   "cell_type": "markdown",
   "metadata": {},
   "source": [
    "#### Вспоминаем, как работает __getattribute__"
   ]
  },
  {
   "cell_type": "code",
   "execution_count": 10,
   "metadata": {
    "collapsed": true
   },
   "outputs": [],
   "source": [
    "class Test(object):\n",
    "    trace = Trace()\n",
    "    def __init__(self):\n",
    "        self.attr = 5\n",
    "\n",
    "    def __getattr__(self, name):\n",
    "        print(\"Sorry, don't exists attribute \", name)\n",
    "\n",
    "    def __getattribute__(self, name):\n",
    "        res = super().__getattribute__(name)\n",
    "        print(\"Call __getattribute__, return {}={}\".format(name, res))\n",
    "        return res\n",
    "pass\n",
    "\n",
    "class Test2(Test):\n",
    "    val = 6"
   ]
  },
  {
   "cell_type": "code",
   "execution_count": 11,
   "metadata": {
    "collapsed": false
   },
   "outputs": [
    {
     "name": "stdout",
     "output_type": "stream",
     "text": [
      "Call __getattribute__, return val=6\n",
      "Call __getattribute__, return attr=5\n",
      "Sorry, don't exists attribute  val2\n"
     ]
    }
   ],
   "source": [
    "t = Test2()\n",
    "t.val\n",
    "t.attr\n",
    "t.val2"
   ]
  },
  {
   "cell_type": "code",
   "execution_count": 12,
   "metadata": {
    "collapsed": false
   },
   "outputs": [
    {
     "name": "stdout",
     "output_type": "stream",
     "text": [
      "<__main__.Trace object at 0x000000B9A4892400> __get__ (<__main__.Test2 object at 0x000000B9A48920B8>, <class '__main__.Test2'>)\n",
      "Call __getattribute__, return trace=None\n"
     ]
    }
   ],
   "source": [
    "t.trace"
   ]
  },
  {
   "cell_type": "markdown",
   "metadata": {},
   "source": [
    "#### Использование дескриптора Limited"
   ]
  },
  {
   "cell_type": "code",
   "execution_count": 13,
   "metadata": {
    "collapsed": false
   },
   "outputs": [
    {
     "name": "stdout",
     "output_type": "stream",
     "text": [
      "{} {}\n"
     ]
    },
    {
     "data": {
      "text/plain": [
       "(100.0, 5)"
      ]
     },
     "execution_count": 13,
     "metadata": {},
     "output_type": "execute_result"
    }
   ],
   "source": [
    "class Limited(object):\n",
    "\n",
    "    def __init__(self, lo, hi, label):\n",
    "        self.lo = lo\n",
    "        self.hi = hi\n",
    "        self.label = label\n",
    "\n",
    "    def __get__(self, instance, owner):\n",
    "        return instance.__dict__.get(self.label)\n",
    "\n",
    "    def __set__(self, instance, value):\n",
    "        if not (self.lo < value < self.hi):\n",
    "            raise ValueError(\"Please, set {label} with conditions: {lo} < {label} < {hi}\".format(**self.__dict__))\n",
    "        instance.__dict__[self.label] = value\n",
    "\n",
    "    def __delete__(self, instance):\n",
    "        instance.__dict__[self.label] = 'No more'\n",
    "\n",
    "pass\n",
    "\n",
    "class Summator(object):\n",
    "    x = Limited(1, 1000, \"y\")\n",
    "\n",
    "summator, summator2 = Summator(), Summator()\n",
    "print(summator.__dict__, summator2.__dict__)\n",
    "summator.y, summator2.y = 1e2, 5\n",
    "summator.y, summator2.y"
   ]
  },
  {
   "cell_type": "code",
   "execution_count": 14,
   "metadata": {
    "collapsed": false
   },
   "outputs": [
    {
     "data": {
      "text/plain": [
       "({'y': 100.0}, {'y': 5})"
      ]
     },
     "execution_count": 14,
     "metadata": {},
     "output_type": "execute_result"
    }
   ],
   "source": [
    "summator.__dict__, summator2.__dict__"
   ]
  },
  {
   "cell_type": "code",
   "execution_count": 15,
   "metadata": {
    "collapsed": false
   },
   "outputs": [
    {
     "data": {
      "text/plain": [
       "4"
      ]
     },
     "execution_count": 15,
     "metadata": {},
     "output_type": "execute_result"
    }
   ],
   "source": [
    "summator.y = 4\n",
    "summator.x"
   ]
  },
  {
   "cell_type": "markdown",
   "metadata": {},
   "source": [
    "#### Решение проблем с хранением значений дескриптора в объекте"
   ]
  },
  {
   "cell_type": "code",
   "execution_count": 16,
   "metadata": {
    "collapsed": false
   },
   "outputs": [
    {
     "name": "stdout",
     "output_type": "stream",
     "text": [
      "{'name': 'summator'} {'name': 'summator2'}\n"
     ]
    },
    {
     "data": {
      "text/plain": [
       "(100.0, 5)"
      ]
     },
     "execution_count": 16,
     "metadata": {},
     "output_type": "execute_result"
    }
   ],
   "source": [
    "from collections import defaultdict\n",
    "\n",
    "\n",
    "class Limited(object):\n",
    "\n",
    "    def __init__(self, lo, hi):\n",
    "        self.lo = lo\n",
    "        self.hi = hi\n",
    "        self._values = defaultdict()\n",
    "\n",
    "    def __get__(self, instance, owner):\n",
    "        return self._values.get(instance)\n",
    "\n",
    "    def __set__(self, instance, value):\n",
    "        if not (self.lo < value < self.hi):\n",
    "            raise ValueError(\"Please, set {label} with conditions: {lo} < {label} < {hi}\".format(**self.__dict__))\n",
    "        self._values[instance] = value\n",
    "\n",
    "    def __delete__(self, instance):\n",
    "        self._values[instance] = 'No more'\n",
    "\n",
    "pass\n",
    "\n",
    "class Summator(object):\n",
    "    x = Limited(1, 1000)\n",
    "    \n",
    "    def __init__(self, name):\n",
    "        self.name = name\n",
    "\n",
    "summator, summator2 = Summator(\"summator\"), Summator(\"summator2\")\n",
    "summator.x, summator2.x = 1e2, 5\n",
    "print(summator.__dict__, summator2.__dict__)\n",
    "summator.x, summator2.x"
   ]
  },
  {
   "cell_type": "markdown",
   "metadata": {},
   "source": [
    "#### Новая проблема"
   ]
  },
  {
   "cell_type": "code",
   "execution_count": 17,
   "metadata": {
    "collapsed": true
   },
   "outputs": [],
   "source": [
    "del(summator)"
   ]
  },
  {
   "cell_type": "code",
   "execution_count": 18,
   "metadata": {
    "collapsed": false
   },
   "outputs": [
    {
     "data": {
      "text/plain": [
       "[('summator', 100.0), ('summator2', 5)]"
      ]
     },
     "execution_count": 18,
     "metadata": {},
     "output_type": "execute_result"
    }
   ],
   "source": [
    "list(((k.name, v) for k, v in Summator.__dict__[\"x\"]._values.items()))"
   ]
  },
  {
   "cell_type": "markdown",
   "metadata": {},
   "source": [
    "#### Решаем проблему с удалением"
   ]
  },
  {
   "cell_type": "code",
   "execution_count": 19,
   "metadata": {
    "collapsed": false
   },
   "outputs": [
    {
     "name": "stdout",
     "output_type": "stream",
     "text": [
      "{'name': 'summator'} {'name': 'summator2'}\n"
     ]
    },
    {
     "data": {
      "text/plain": [
       "(100.0, 5)"
      ]
     },
     "execution_count": 19,
     "metadata": {},
     "output_type": "execute_result"
    }
   ],
   "source": [
    "from weakref import WeakKeyDictionary\n",
    "\n",
    "\n",
    "class Limited(object):\n",
    "\n",
    "    def __init__(self, lo, hi):\n",
    "        self.lo = lo\n",
    "        self.hi = hi\n",
    "        self._values = WeakKeyDictionary()\n",
    "\n",
    "    def __get__(self, instance, owner):\n",
    "        return self._values.get(instance)\n",
    "\n",
    "    def __set__(self, instance, value):\n",
    "        if not (self.lo < value < self.hi):\n",
    "            raise ValueError(\"Please, set {label} with conditions: {lo} < {label} < {hi}\".format(**self.__dict__))\n",
    "        self._values[instance] = value\n",
    "\n",
    "    def __delete__(self, instance):\n",
    "        self._values[instance] = 'No more'\n",
    "\n",
    "pass\n",
    "\n",
    "class Summator(object):\n",
    "    x = Limited(1, 1000)\n",
    "\n",
    "    def __init__(self, name):\n",
    "        self.name = name\n",
    "\n",
    "summator, summator2 = Summator(\"summator\"), Summator(\"summator2\")\n",
    "summator.x, summator2.x = 1e2, 5\n",
    "print(summator.__dict__, summator2.__dict__)\n",
    "summator.x, summator2.x"
   ]
  },
  {
   "cell_type": "code",
   "execution_count": 20,
   "metadata": {
    "collapsed": true
   },
   "outputs": [],
   "source": [
    "del(summator)"
   ]
  },
  {
   "cell_type": "code",
   "execution_count": 21,
   "metadata": {
    "collapsed": false
   },
   "outputs": [
    {
     "data": {
      "text/plain": [
       "[('summator2', 5)]"
      ]
     },
     "execution_count": 21,
     "metadata": {},
     "output_type": "execute_result"
    }
   ],
   "source": [
    "list(((k.name, v) for k, v in Summator.__dict__[\"x\"]._values.items()))"
   ]
  },
  {
   "cell_type": "markdown",
   "metadata": {},
   "source": [
    "#### Усложняем. Дескриптор - это же объект!"
   ]
  },
  {
   "cell_type": "code",
   "execution_count": 22,
   "metadata": {
    "collapsed": false
   },
   "outputs": [
    {
     "name": "stdout",
     "output_type": "stream",
     "text": [
      "Balance is 5000\n",
      "You are now poor\n",
      "Balance is 99\n"
     ]
    }
   ],
   "source": [
    "class CallbackProperty(object):\n",
    "    def __init__(self, default=None):\n",
    "        self.data = WeakKeyDictionary()\n",
    "        self.default = default\n",
    "        self.callbacks = WeakKeyDictionary()\n",
    "        \n",
    "    def __get__(self, instance, owner):\n",
    "        if instance is None:\n",
    "            return self        \n",
    "        return self.data.get(instance, self.default)\n",
    "    \n",
    "    def __set__(self, instance, value):\n",
    "        for callback in self.callbacks.get(instance, []):\n",
    "            callback(value)\n",
    "        self.data[instance] = value\n",
    "        \n",
    "    def add_callback(self, instance, callback):\n",
    "        if instance not in self.callbacks:\n",
    "            self.callbacks[instance] = []\n",
    "        self.callbacks[instance].append(callback)\n",
    "\n",
    "class BankAccount(object):\n",
    "    balance = CallbackProperty(0)\n",
    "\n",
    "def low_balance_warning(value):\n",
    "    if value < 100:\n",
    "        print(\"You are now poor\")\n",
    "                \n",
    "ba = BankAccount()\n",
    "BankAccount.balance.add_callback(ba, low_balance_warning)\n",
    "\n",
    "ba.balance = 5000\n",
    "print(\"Balance is %s\" % ba.balance)\n",
    "ba.balance = 99\n",
    "print(\"Balance is %s\" % ba.balance)"
   ]
  },
  {
   "cell_type": "markdown",
   "metadata": {},
   "source": [
    "#### proterty это дескриптор"
   ]
  },
  {
   "cell_type": "code",
   "execution_count": 23,
   "metadata": {
    "collapsed": true
   },
   "outputs": [],
   "source": [
    "class Property(object):\n",
    "    \"Emulate PyProperty_Type() in Objects/descrobject.c\"\n",
    "\n",
    "    def __init__(self, fget=None, fset=None, fdel=None, doc=None):\n",
    "        self.fget = fget\n",
    "        self.fset = fset\n",
    "        self.fdel = fdel\n",
    "        if doc is None and fget is not None:\n",
    "            doc = fget.__doc__\n",
    "        self.__doc__ = doc\n",
    "\n",
    "    def __get__(self, obj, objtype=None):\n",
    "        if obj is None:\n",
    "            return self\n",
    "        if self.fget is None:\n",
    "            raise AttributeError(\"unreadable attribute\")\n",
    "        return self.fget(obj)\n",
    "\n",
    "    def __set__(self, obj, value):\n",
    "        if self.fset is None:\n",
    "            raise AttributeError(\"can't set attribute\")\n",
    "        self.fset(obj, value)\n",
    "\n",
    "    def __delete__(self, obj):\n",
    "        if self.fdel is None:\n",
    "            raise AttributeError(\"can't delete attribute\")\n",
    "        self.fdel(obj)\n",
    "\n",
    "    def getter(self, fget):\n",
    "        return type(self)(fget, self.fset, self.fdel, self.__doc__)\n",
    "\n",
    "    def setter(self, fset):\n",
    "        return type(self)(self.fget, fset, self.fdel, self.__doc__)\n",
    "\n",
    "    def deleter(self, fdel):\n",
    "        return type(self)(self.fget, self.fset, fdel, self.__doc__)"
   ]
  },
  {
   "cell_type": "markdown",
   "metadata": {},
   "source": [
    "# Метаклассы"
   ]
  },
  {
   "cell_type": "markdown",
   "metadata": {},
   "source": [
    "#### Что такое тип (type) в python"
   ]
  },
  {
   "cell_type": "code",
   "execution_count": 24,
   "metadata": {
    "collapsed": false
   },
   "outputs": [
    {
     "data": {
      "text/plain": [
       "(type, type, type)"
      ]
     },
     "execution_count": 24,
     "metadata": {},
     "output_type": "execute_result"
    }
   ],
   "source": [
    "class Cls(object):\n",
    "    pass\n",
    "\n",
    "type(int), type(Cls), type(type)"
   ]
  },
  {
   "cell_type": "code",
   "execution_count": 25,
   "metadata": {
    "collapsed": false
   },
   "outputs": [
    {
     "name": "stdout",
     "output_type": "stream",
     "text": [
      "42 <__main__.DeepThought object at 0x000000B9A4895278> <class '__main__.DeepThought'> <class 'type'>\n"
     ]
    }
   ],
   "source": [
    "def class_factory(name, bases, **kwargs):\n",
    "    return type(name, bases, kwargs)\n",
    "\n",
    "F = class_factory('DeepThought', (object, ), ans=42)\n",
    "f = F()\n",
    "print(f.ans, f, type(f), type(F)) "
   ]
  },
  {
   "cell_type": "code",
   "execution_count": 26,
   "metadata": {
    "collapsed": true
   },
   "outputs": [],
   "source": [
    "class DeepThought(object):\n",
    "    ans = 42\n",
    "\n",
    "pass"
   ]
  },
  {
   "cell_type": "markdown",
   "metadata": {},
   "source": [
    "#### Мета класс"
   ]
  },
  {
   "cell_type": "code",
   "execution_count": 27,
   "metadata": {
    "collapsed": false
   },
   "outputs": [
    {
     "name": "stdout",
     "output_type": "stream",
     "text": [
      "42 <__main__.DeepThought object at 0x000000B9A48929B0> <class '__main__.DeepThought'> <class '__main__.Meta'>\n"
     ]
    }
   ],
   "source": [
    "class Meta(type):\n",
    "    pass\n",
    "\n",
    "def class_factory(name, bases, **kwargs):\n",
    "    return Meta(name, bases, kwargs)\n",
    "\n",
    "F = class_factory('DeepThought', (object, ), ans=42)\n",
    "f = F()\n",
    "print(f.ans, f, type(f), type(F))"
   ]
  },
  {
   "cell_type": "markdown",
   "metadata": {},
   "source": [
    "#### Влияем на поведение мета класса"
   ]
  },
  {
   "cell_type": "code",
   "execution_count": 28,
   "metadata": {
    "collapsed": false
   },
   "outputs": [
    {
     "name": "stdout",
     "output_type": "stream",
     "text": [
      "__init__ Meta\n"
     ]
    }
   ],
   "source": [
    "class Meta(type):\n",
    "    def __init__(cls, name, base, attrs):\n",
    "        print(\"__init__ Meta\")\n",
    "        super().__init__(name, base, attrs)\n",
    "        cls.hola = lambda self: 'qwerty'\n",
    "\n",
    "def class_factory(name, bases, **kwargs):\n",
    "    return Meta(name, bases, kwargs)\n",
    "\n",
    "F = class_factory('DeepThought', (object, ), ans=42)"
   ]
  },
  {
   "cell_type": "code",
   "execution_count": 29,
   "metadata": {
    "collapsed": false
   },
   "outputs": [
    {
     "name": "stdout",
     "output_type": "stream",
     "text": [
      "42 <__main__.DeepThought object at 0x000000B9A5730AC8> <class '__main__.DeepThought'> <class '__main__.Meta'>\n",
      "qwerty\n"
     ]
    }
   ],
   "source": [
    "f = F()\n",
    "print(f.ans, f, type(f), type(F))\n",
    "print(f.hola())"
   ]
  },
  {
   "cell_type": "code",
   "execution_count": 30,
   "metadata": {
    "collapsed": false
   },
   "outputs": [
    {
     "name": "stdout",
     "output_type": "stream",
     "text": [
      "Meta.__new__(mcs=<class '__main__.Meta'>, name='DeepThought', bases=(<class 'object'>,), attrs=[ans], **{})\n",
      "Meta.__init__(cls=<class '__main__.DeepThought'>, name='DeepThought', bases=(<class 'object'>,), attrs=[ans], **{})\n"
     ]
    }
   ],
   "source": [
    "class Meta(type):\n",
    "    def __new__(mcs, name, bases, attrs, **kwargs):\n",
    "        print('Meta.__new__(mcs=%s, name=%r, bases=%s, attrs=[%s], **%s)' % (\n",
    "             mcs, name, bases, ', '.join(attrs), kwargs\n",
    "         ))\n",
    "        return super().__new__(mcs, name, bases, attrs)\n",
    "\n",
    "    def __init__(cls, name, bases, attrs, **kwargs):\n",
    "        print('Meta.__init__(cls=%s, name=%r, bases=%s, attrs=[%s], **%s)' % (\n",
    "             cls, name, bases, ', '.join(attrs), kwargs\n",
    "         ))\n",
    "        return super().__init__(name, bases, attrs)\n",
    "\n",
    "    def __call__(cls, *args, **kwargs):\n",
    "        print('Meta.__call__(cls=%s, args=%s, kwargs=%s)' % (\n",
    "             cls, args, kwargs\n",
    "         ))\n",
    "        return super().__call__(*args, **kwargs)\n",
    "\n",
    "\n",
    "def class_factory(name, bases, **kwargs):\n",
    "    return Meta(name, bases, kwargs)\n",
    "\n",
    "F = class_factory('DeepThought', (object, ), ans=42)"
   ]
  },
  {
   "cell_type": "code",
   "execution_count": 31,
   "metadata": {
    "collapsed": false
   },
   "outputs": [
    {
     "name": "stdout",
     "output_type": "stream",
     "text": [
      "Meta.__call__(cls=<class '__main__.DeepThought'>, args=(), kwargs={})\n"
     ]
    }
   ],
   "source": [
    "f = F()"
   ]
  },
  {
   "cell_type": "code",
   "execution_count": 32,
   "metadata": {
    "collapsed": false
   },
   "outputs": [
    {
     "name": "stdout",
     "output_type": "stream",
     "text": [
      "42 <__main__.DeepThought object at 0x000000B9A4892160> <class '__main__.DeepThought'> <class '__main__.Meta'>\n"
     ]
    }
   ],
   "source": [
    "print(f.ans, f, type(f), type(F))"
   ]
  },
  {
   "cell_type": "markdown",
   "metadata": {},
   "source": [
    "#### Способ задания мета класса без функции"
   ]
  },
  {
   "cell_type": "code",
   "execution_count": 33,
   "metadata": {
    "collapsed": false
   },
   "outputs": [
    {
     "data": {
      "text/plain": [
       "__main__.Test"
      ]
     },
     "execution_count": 33,
     "metadata": {},
     "output_type": "execute_result"
    }
   ],
   "source": [
    "class NewMeta(type):\n",
    "    def __init__(cls, name, base, attrs):\n",
    "        super().__init__(name, base, attrs)\n",
    "        cls.f = lambda self: 'qwerty'\n",
    "\n",
    "class Test(object, metaclass=NewMeta):\n",
    "    pass\n",
    "Test"
   ]
  },
  {
   "cell_type": "markdown",
   "metadata": {},
   "source": [
    "Тоже самое, что"
   ]
  },
  {
   "cell_type": "code",
   "execution_count": 34,
   "metadata": {
    "collapsed": false
   },
   "outputs": [
    {
     "data": {
      "text/plain": [
       "__main__.Test"
      ]
     },
     "execution_count": 34,
     "metadata": {},
     "output_type": "execute_result"
    }
   ],
   "source": [
    "class NewMeta(type):\n",
    "    def __init__(cls, name, base, attrs):\n",
    "        super().__init__(name, base, attrs)\n",
    "        cls.f = lambda self: 'qwerty'\n",
    "\n",
    "\n",
    "def class_factory(name, bases, **kwargs):\n",
    "    return NewMeta(name, bases, kwargs)\n",
    "\n",
    "Test = class_factory(\"Test\", (object, ))\n",
    "Test"
   ]
  },
  {
   "cell_type": "markdown",
   "metadata": {},
   "source": [
    "#### Методы мета класса и методы объекта"
   ]
  },
  {
   "cell_type": "code",
   "execution_count": 35,
   "metadata": {
    "collapsed": false
   },
   "outputs": [],
   "source": [
    "class NewMeta(type):\n",
    "    def __init__(cls, name, base, attrs):\n",
    "        super().__init__(name, base, attrs)\n",
    "        cls.f = lambda self: 'qwerty'\n",
    "\n",
    "class Test(object, metaclass=NewMeta):\n",
    "    pass\n",
    "\n",
    "t_cls = Test()"
   ]
  },
  {
   "cell_type": "code",
   "execution_count": 36,
   "metadata": {
    "collapsed": false
   },
   "outputs": [
    {
     "data": {
      "text/plain": [
       "'qwerty'"
      ]
     },
     "execution_count": 36,
     "metadata": {},
     "output_type": "execute_result"
    }
   ],
   "source": [
    "t_cls.f()"
   ]
  },
  {
   "cell_type": "code",
   "execution_count": 37,
   "metadata": {
    "collapsed": false
   },
   "outputs": [
    {
     "ename": "TypeError",
     "evalue": "<lambda>() missing 1 required positional argument: 'self'",
     "output_type": "error",
     "traceback": [
      "\u001b[0;31m---------------------------------------------------------------------------\u001b[0m",
      "\u001b[0;31mTypeError\u001b[0m                                 Traceback (most recent call last)",
      "\u001b[0;32m<ipython-input-37-65c09b92bd2b>\u001b[0m in \u001b[0;36m<module>\u001b[0;34m()\u001b[0m\n\u001b[0;32m----> 1\u001b[0;31m \u001b[0mTest\u001b[0m\u001b[1;33m.\u001b[0m\u001b[0mf\u001b[0m\u001b[1;33m(\u001b[0m\u001b[1;33m)\u001b[0m\u001b[1;33m\u001b[0m\u001b[0m\n\u001b[0m",
      "\u001b[0;31mTypeError\u001b[0m: <lambda>() missing 1 required positional argument: 'self'"
     ]
    }
   ],
   "source": [
    "Test.f()"
   ]
  },
  {
   "cell_type": "code",
   "execution_count": 38,
   "metadata": {
    "collapsed": true
   },
   "outputs": [],
   "source": [
    "class NewMeta(type):\n",
    "    def __init__(cls, name, base, attrs):\n",
    "        super().__init__(name, base, attrs)\n",
    "\n",
    "    def f(cls):\n",
    "        return 'qwerty'\n",
    "\n",
    "class Test(object, metaclass=NewMeta):\n",
    "    pass\n",
    "t_cls = Test()"
   ]
  },
  {
   "cell_type": "code",
   "execution_count": 39,
   "metadata": {
    "collapsed": false
   },
   "outputs": [
    {
     "ename": "AttributeError",
     "evalue": "'Test' object has no attribute 'f'",
     "output_type": "error",
     "traceback": [
      "\u001b[0;31m---------------------------------------------------------------------------\u001b[0m",
      "\u001b[0;31mAttributeError\u001b[0m                            Traceback (most recent call last)",
      "\u001b[0;32m<ipython-input-39-1b8805f9ddce>\u001b[0m in \u001b[0;36m<module>\u001b[0;34m()\u001b[0m\n\u001b[0;32m----> 1\u001b[0;31m \u001b[0mt_cls\u001b[0m\u001b[1;33m.\u001b[0m\u001b[0mf\u001b[0m\u001b[1;33m(\u001b[0m\u001b[1;33m)\u001b[0m\u001b[1;33m\u001b[0m\u001b[0m\n\u001b[0m",
      "\u001b[0;31mAttributeError\u001b[0m: 'Test' object has no attribute 'f'"
     ]
    }
   ],
   "source": [
    "t_cls.f()"
   ]
  },
  {
   "cell_type": "code",
   "execution_count": 40,
   "metadata": {
    "collapsed": false
   },
   "outputs": [
    {
     "data": {
      "text/plain": [
       "'qwerty'"
      ]
     },
     "execution_count": 40,
     "metadata": {},
     "output_type": "execute_result"
    }
   ],
   "source": [
    "Test.f()"
   ]
  },
  {
   "cell_type": "markdown",
   "metadata": {},
   "source": [
    "#### Аргумент metaclass - любой callable объект"
   ]
  },
  {
   "cell_type": "code",
   "execution_count": 41,
   "metadata": {
    "collapsed": false
   },
   "outputs": [
    {
     "name": "stdout",
     "output_type": "stream",
     "text": [
      "MyPrint (<class 'object'>,) {'__module__': '__main__', '__qualname__': 'MyPrint'}\n"
     ]
    }
   ],
   "source": [
    "class MyPrint(object, metaclass=print):\n",
    "    pass"
   ]
  },
  {
   "cell_type": "code",
   "execution_count": 42,
   "metadata": {
    "collapsed": false
   },
   "outputs": [
    {
     "data": {
      "text/plain": [
       "NoneType"
      ]
     },
     "execution_count": 42,
     "metadata": {},
     "output_type": "execute_result"
    }
   ],
   "source": [
    "type(MyPrint)"
   ]
  },
  {
   "cell_type": "markdown",
   "metadata": {},
   "source": [
    "#### Пример использования мета классов 1"
   ]
  },
  {
   "cell_type": "code",
   "execution_count": 43,
   "metadata": {
    "collapsed": false
   },
   "outputs": [
    {
     "name": "stdout",
     "output_type": "stream",
     "text": [
      "False\n",
      "True\n",
      "bip\n"
     ]
    }
   ],
   "source": [
    "def upper_attr(future_class_name, future_class_parents, future_class_attr):\n",
    "    uppercase_attr = {}\n",
    "    for name, val in future_class_attr.items():\n",
    "        if not name.startswith('__'):\n",
    "            uppercase_attr[name.upper()] = val\n",
    "        else:\n",
    "            uppercase_attr[name] = val\n",
    "    return type(future_class_name, future_class_parents, uppercase_attr)\n",
    "\n",
    "\n",
    "class Foo(metaclass=upper_attr): \n",
    "    bar = 'bip'\n",
    "\n",
    "f = Foo()\n",
    "print(hasattr(Foo, 'bar'))\n",
    "print(hasattr(Foo, 'BAR'))\n",
    "print(f.BAR)"
   ]
  },
  {
   "cell_type": "markdown",
   "metadata": {},
   "source": [
    "Тоже самое классом"
   ]
  },
  {
   "cell_type": "code",
   "execution_count": 44,
   "metadata": {
    "collapsed": true
   },
   "outputs": [],
   "source": [
    "class UpperAttrMetaclass(type): \n",
    "\n",
    "    def __new__(cls, name, bases, dct):\n",
    "\n",
    "        attrs = ((name, value) for name, value in dct.items() if not name.startswith('__'))\n",
    "        uppercase_attr = dict((name.upper(), value) for name, value in attrs)\n",
    "\n",
    "        return type.__new__(cls, name, bases, uppercase_attr)"
   ]
  },
  {
   "cell_type": "code",
   "execution_count": 45,
   "metadata": {
    "collapsed": false
   },
   "outputs": [
    {
     "name": "stdout",
     "output_type": "stream",
     "text": [
      "False\n",
      "True\n",
      "bip\n"
     ]
    }
   ],
   "source": [
    "class Foo(metaclass=UpperAttrMetaclass): \n",
    "    bar = 'bip'\n",
    "\n",
    "f = Foo()\n",
    "print(hasattr(Foo, 'bar'))\n",
    "print(hasattr(Foo, 'BAR'))\n",
    "print(f.BAR)"
   ]
  },
  {
   "cell_type": "markdown",
   "metadata": {},
   "source": [
    "#### Пример использования мета классов 2"
   ]
  },
  {
   "cell_type": "code",
   "execution_count": 46,
   "metadata": {
    "collapsed": false
   },
   "outputs": [
    {
     "name": "stdout",
     "output_type": "stream",
     "text": [
      "__set__\n",
      "__set__\n",
      "__get__. Label = x\n",
      "__get__. Label = x\n",
      "10 20\n"
     ]
    }
   ],
   "source": [
    "class Descriptor(object):\n",
    "    def __init__(self):\n",
    "        #notice we aren't setting the label here\n",
    "        self.label = None\n",
    "\n",
    "    def __get__(self, instance, owner):\n",
    "        print('__get__. Label = {}'.format(self.label))\n",
    "        return instance.__dict__.get(self.label, None)\n",
    "    \n",
    "    def __set__(self, instance, value):\n",
    "        print('__set__')\n",
    "        instance.__dict__[self.label] = value\n",
    "\n",
    "        \n",
    "class DescriptorOwner(type):\n",
    "    def __new__(cls, name, bases, attrs):\n",
    "        for attr_name, attr_value in attrs.items():\n",
    "            if isinstance(attr_value, Descriptor):\n",
    "                attr_value.label = attr_name\n",
    "        return super().__new__(cls, name, bases, attrs)\n",
    "\n",
    "        \n",
    "class Foo(object, metaclass=DescriptorOwner):\n",
    "    x = Descriptor()\n",
    "\n",
    "f1, f2 = Foo(), Foo()\n",
    "f1.x, f2.x = 10, 20\n",
    "print(f1.x, f2.x)"
   ]
  }
 ],
 "metadata": {
  "kernelspec": {
   "display_name": "Python 3",
   "language": "python",
   "name": "python3"
  },
  "language_info": {
   "codemirror_mode": {
    "name": "ipython",
    "version": 3
   },
   "file_extension": ".py",
   "mimetype": "text/x-python",
   "name": "python",
   "nbconvert_exporter": "python",
   "pygments_lexer": "ipython3",
   "version": "3.6.0"
  }
 },
 "nbformat": 4,
 "nbformat_minor": 2
}

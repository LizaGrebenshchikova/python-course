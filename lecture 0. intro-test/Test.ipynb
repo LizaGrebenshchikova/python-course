{
 "cells": [
  {
   "cell_type": "markdown",
   "metadata": {},
   "source": [
    "# Занятие 0\n",
    "Тестовый опрос о текущих знаниях про python 3 и некоторых библиотеках."
   ]
  },
  {
   "cell_type": "markdown",
   "metadata": {},
   "source": [
    "### Базовые знания о питон"
   ]
  },
  {
   "cell_type": "markdown",
   "metadata": {},
   "source": [
    "<b>* Вопрос 1</b>\n",
    "\n",
    "Ниже приведен код программы. Что будет выведено на экран в первом и втором случае?"
   ]
  },
  {
   "cell_type": "code",
   "execution_count": null,
   "metadata": {
    "collapsed": false
   },
   "outputs": [],
   "source": [
    "l = []\n",
    "try:\n",
    "    print(l and 1/0)\n",
    "except:\n",
    "    print(\"Error!\")"
   ]
  },
  {
   "cell_type": "code",
   "execution_count": null,
   "metadata": {
    "collapsed": false
   },
   "outputs": [],
   "source": [
    "l = []\n",
    "try:\n",
    "    print(l or 1/0)\n",
    "except:\n",
    "    print(\"Error!\")"
   ]
  },
  {
   "cell_type": "markdown",
   "metadata": {},
   "source": [
    "<b>* Вопрос 2</b>\n",
    "\n",
    "Ниже приведен код программы. Какие два числа будут выведены на экран и почему?"
   ]
  },
  {
   "cell_type": "code",
   "execution_count": null,
   "metadata": {
    "collapsed": false
   },
   "outputs": [],
   "source": [
    "seq = list(range(5))\n",
    "print(sum(seq + [seq[-1]]))\n",
    "new_seq = seq\n",
    "new_seq.append(5)\n",
    "print(sum(seq + [new_seq[-1]]))"
   ]
  },
  {
   "cell_type": "markdown",
   "metadata": {},
   "source": [
    "<b>* Вопрос 3</b>\n",
    "\n",
    "Ниже приведен код программы. Что будет выведено на экран в первом и втором случае?"
   ]
  },
  {
   "cell_type": "code",
   "execution_count": null,
   "metadata": {
    "collapsed": false
   },
   "outputs": [],
   "source": [
    "def some_func(*args, lo=None):\n",
    "    total = 0\n",
    "    for elem in args:\n",
    "        if not lo or elem > lo:\n",
    "            total += elem\n",
    "        else:\n",
    "            total += lo\n",
    "    return total / len(args)\n",
    "\n",
    "print(some_func(*range(1, 5)))\n",
    "print(some_func(1, 2, 3, 4, lo=1))"
   ]
  },
  {
   "cell_type": "markdown",
   "metadata": {},
   "source": [
    "<b>* Вопрос 4</b>\n",
    "\n",
    "Ниже приведен код программы. Что будет выведено на экран?"
   ]
  },
  {
   "cell_type": "code",
   "execution_count": null,
   "metadata": {
    "collapsed": false
   },
   "outputs": [],
   "source": [
    "' '.join(map(str, range(5)))"
   ]
  },
  {
   "cell_type": "markdown",
   "metadata": {},
   "source": [
    "<b>* Вопрос 5</b>\n",
    "\n",
    "Ниже приведен код программы. Какие две строчки будут выведены на экран?"
   ]
  },
  {
   "cell_type": "code",
   "execution_count": null,
   "metadata": {
    "collapsed": false
   },
   "outputs": [],
   "source": [
    "def some_func(class_):\n",
    "    instances = {}\n",
    "\n",
    "    def get_instance(*args, **kwargs):\n",
    "        if class_ not in instances:\n",
    "            instances[class_] = class_(*args, **kwargs)\n",
    "        return instances[class_]\n",
    "\n",
    "    return get_instance\n",
    "\n",
    "\n",
    "@some_func\n",
    "class Vocabulary(object):\n",
    "\n",
    "    def __init__(self, vocab={}):\n",
    "        self.vocab = vocab\n",
    "\n",
    "    def add(self, key, val):\n",
    "        self.vocab[key] = val\n",
    "    \n",
    "    pass\n",
    "\n",
    "vocab1 = Vocabulary({'a': 1, 'b': 2, 'c': 3})\n",
    "vocab2 = Vocabulary({'d': 4, 'e': 5, 'f': 6})\n",
    "vocab2.add('g', 7)\n",
    "print(vocab2 is vocab1)\n",
    "print(vocab1.vocab == vocab2.vocab)"
   ]
  },
  {
   "cell_type": "markdown",
   "metadata": {},
   "source": [
    "<b>* Вопрос 6</b>\n",
    "\n",
    "Ниже приведен код программы. Какие две строчки будут выведены на экран?"
   ]
  },
  {
   "cell_type": "code",
   "execution_count": null,
   "metadata": {
    "collapsed": true
   },
   "outputs": [],
   "source": [
    "def split(seq):\n",
    "    for el in seq.split():\n",
    "        yield el"
   ]
  },
  {
   "cell_type": "code",
   "execution_count": null,
   "metadata": {
    "collapsed": false
   },
   "outputs": [],
   "source": [
    "seq = 'a b c d'\n",
    "splitted_seq = split(seq)\n",
    "print([el for el in splitted_seq])\n",
    "print([el for el in splitted_seq])"
   ]
  },
  {
   "cell_type": "markdown",
   "metadata": {},
   "source": [
    "### Вопросы о знании библиотек"
   ]
  },
  {
   "cell_type": "markdown",
   "metadata": {},
   "source": [
    "<b>* Вопрос 7</b>\n",
    "\n",
    "Написать функцию для подсчёта произведения ненулевых элементов на диагонали прямоугольной матрицы.\n",
    "Например, для X = np.array([[1, 0, 1], [2, 0, 2], [3, 0, 3], [4, 4, 4]]) ответом является 3. Если ненулевых элементов нет, функция должна возвращать None."
   ]
  },
  {
   "cell_type": "markdown",
   "metadata": {},
   "source": [
    "<b>* Вопрос 7</b>\n",
    "\n",
    "У вас в папке с вашим проектом лежит файл \"titanic.csv\" (Пример содержания файла приведен ниже). Напишите код, который позволи ответить на вопрс: какое расределение женщин/мужчин в нем?"
   ]
  },
  {
   "cell_type": "markdown",
   "metadata": {},
   "source": [
    "<b>* Вопрос 7</b>\n",
    "\n",
    "Напишите код, удаляющий данные с пропусками из предыдущего датасета."
   ]
  },
  {
   "cell_type": "markdown",
   "metadata": {},
   "source": [
    "<b>* Вопрос 8</b>\n",
    "\n",
    "Используя следующую функцию для генерации выборки, отобразите на графике синим цветом функцию y(x), а также ее доверительный интервал в виде закрашенной зеленым цветом области от y[i] - error[i] до y[i] + error[i].\n",
    "\n",
    "    def gen_uncertain_data():\n",
    "        x = np.linspace(0, 30, 100)\n",
    "        y = np.sin(x/6*np.pi) + np.random.normal(0, 0.02, size=x.shape)\n",
    "        error = np.random.normal(0.1, 0.02, size=y.shape)\n",
    "        return x, y, error"
   ]
  }
 ],
 "metadata": {
  "kernelspec": {
   "display_name": "Python 3",
   "language": "python",
   "name": "python3"
  },
  "language_info": {
   "codemirror_mode": {
    "name": "ipython",
    "version": 3
   },
   "file_extension": ".py",
   "mimetype": "text/x-python",
   "name": "python",
   "nbconvert_exporter": "python",
   "pygments_lexer": "ipython3",
   "version": "3.6.0"
  }
 },
 "nbformat": 4,
 "nbformat_minor": 2
}

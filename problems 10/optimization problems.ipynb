{
 "cells": [
  {
   "cell_type": "markdown",
   "metadata": {},
   "source": [
    "# Задание 10"
   ]
  },
  {
   "cell_type": "markdown",
   "metadata": {},
   "source": [
    "## 1. Integral (0.5)\n",
    "\n",
    "1. Найдите следуюций интеграл (0.25):\n",
    "<img src=\"http://www.machinelearning.ru/mimetex/?ifunc(loc,scale)=\\frac{1}{2\\pi}\\sqrt{\\frac{1}{2\\pi}}\\int\\limits_{-1}^{1}\\int\\limits_{-y}^{y}{e^{-0.5(\\frac{{x-loc}}{scale})^2}}{e^{-0.5(\\frac{{y-loc}}{scale})^2}}{e^{-0.5(\\frac{{xy-loc}}{scale})^2}}dxdy\">\n",
    "2. Постройте график функции (0.25): <img src=\"http://www.machinelearning.ru/mimetex/?ifunc(\\eps,n):loc,scale\\in[0.001,5],locstep=0.1,scalestep=0.5\">\n",
    "\n",
    "В задании желательно не пользоваться циклами и итераторами (map и тд). За это будут снижены баллы (возможно) ^-^\n",
    "\n",
    "Пример графика:\n",
    "\n",
    "<img src=\"sample.png\">"
   ]
  },
  {
   "cell_type": "markdown",
   "metadata": {},
   "source": [
    "### Решение"
   ]
  },
  {
   "cell_type": "markdown",
   "metadata": {},
   "source": [
    "#### Запишите подинтегральную функцию\n"
   ]
  },
  {
   "cell_type": "code",
   "execution_count": null,
   "metadata": {
    "collapsed": true
   },
   "outputs": [],
   "source": [
    "def func(x, y, loc, scale):\n",
    "    return <your code here>"
   ]
  },
  {
   "cell_type": "markdown",
   "metadata": {},
   "source": [
    "#### Найдите интегральную функцию"
   ]
  },
  {
   "cell_type": "code",
   "execution_count": null,
   "metadata": {
    "collapsed": true
   },
   "outputs": [],
   "source": [
    "def ifunc(loc, scale):\n",
    "    return <your code here>\n",
    "\n",
    "integrated_func = ifunc(loc, scale)"
   ]
  },
  {
   "cell_type": "markdown",
   "metadata": {},
   "source": [
    "#### Получите сетку"
   ]
  },
  {
   "cell_type": "code",
   "execution_count": null,
   "metadata": {
    "collapsed": true
   },
   "outputs": [],
   "source": [
    "def get_grids(loc_step=0.1, loc_low=0.001, loc_high=5, scale_step=0.5, scale_low=0.001, scale_high=5):\n",
    "    # define loc_grid, scale_grid\n",
    "    <your code here>\n",
    "    ifunc_grid = integrated_func(loc_grid, scale_grid)\n",
    "    return loc_grid, scale_grid, ifunc_grid"
   ]
  },
  {
   "cell_type": "code",
   "execution_count": null,
   "metadata": {
    "collapsed": true
   },
   "outputs": [],
   "source": [
    "# Здесь (возможно) придется подождать\n",
    "loc_grid, scale_grid, ifunc_grid = get_grids()"
   ]
  },
  {
   "cell_type": "markdown",
   "metadata": {},
   "source": [
    "#### Постройте график"
   ]
  },
  {
   "cell_type": "code",
   "execution_count": null,
   "metadata": {
    "collapsed": true
   },
   "outputs": [],
   "source": [
    "<your code here>"
   ]
  },
  {
   "cell_type": "markdown",
   "metadata": {},
   "source": [
    "## 2. Linear programming (0.5)\n",
    "\n",
    "#### Постановка задачи об оптимальном портфеле Марковица\n",
    "\n",
    "Рассмотрим общую задачу распределения капитала, который участник рынка хочет потратить на приобретение ценных бумаг. Цель инвестора – вложить деньги так, чтобы сохранить свой капитал, а при возможности и нарастить его.\n",
    "\n",
    "Набор ценных бумаг, находящихся у участника рынка, называется его портфелем. Стоимость портфеля – это суммарная стоимость всех составляющих его бумаг. Если сегодня его стоимость есть Р, а через год она окажется равной Р', то (Р'- Р)/Р естественно назвать доходностью портфеля в процентах годовых. Доходность портфеля – это доходность на единицу его стоимости.\n",
    "\n",
    "Пусть xi – доля капитала, потраченная на покупку ценных бумаг i-го вида. Весь выделенный капитал принимается за единицу. Пусть di – доходность в процентах годовых бумаг i-го вида в расчете на одну денежную единицу.\n",
    "\n",
    "Доходность колеблется во времени, так что будем считать ее случайной величиной. Пусть mi, ri – средняя ожидаемая доходность и среднее квадратическое отклонение, называемое риском.\n",
    "\n",
    "Каждый владелец портфеля ценных бумаг сталкивается с дилеммой: хочется иметь эффективность больше, а риск меньше. Однако, поскольку “нельзя поймать двух зайцев сразу”, необходимо сделать определенный выбор между эффективностью и риском.\n",
    "\n",
    "#### Оптимальный портфель Марковица максимальной доходности и заданного, (приемлемого) риска:\n",
    "\n",
    "<img src=\"markoviz.png\">\n",
    "\n",
    "В задании вам предстоит решить эту задачу линейного программирования.\n",
    "\n",
    "#### Входные данные"
   ]
  },
  {
   "cell_type": "code",
   "execution_count": null,
   "metadata": {
    "collapsed": true
   },
   "outputs": [],
   "source": [
    "import numpy as np\n",
    "d = np.array([12.19916667, 13.17116667, 13.98283333, 13.73466667, 13.46983333, 14.84666667])\n",
    "v = np.array([2.117, 3.546, 4.512, 4.694, 4.154, 3.95, 1.903, 3.882, 4.098, 3.776, 3.202, 2.901,\n",
    "              5.574, 5.402, 5.522, 3.935, 4.928, 4.63, 2.723, 4.728, 3.067])"
   ]
  },
  {
   "cell_type": "markdown",
   "metadata": {},
   "source": [
    "#### Найдите максимум функции доходности и доли и доходности каждой акции"
   ]
  },
  {
   "cell_type": "code",
   "execution_count": null,
   "metadata": {
    "collapsed": true
   },
   "outputs": [],
   "source": [
    "<your code here>"
   ]
  }
 ],
 "metadata": {
  "kernelspec": {
   "display_name": "Python 3",
   "language": "python",
   "name": "python3"
  },
  "language_info": {
   "codemirror_mode": {
    "name": "ipython",
    "version": 3
   },
   "file_extension": ".py",
   "mimetype": "text/x-python",
   "name": "python",
   "nbconvert_exporter": "python",
   "pygments_lexer": "ipython3",
   "version": "3.6.0"
  }
 },
 "nbformat": 4,
 "nbformat_minor": 2
}

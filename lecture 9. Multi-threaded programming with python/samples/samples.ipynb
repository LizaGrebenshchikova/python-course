{
 "cells": [
  {
   "cell_type": "code",
   "execution_count": 1,
   "metadata": {
    "collapsed": false
   },
   "outputs": [],
   "source": [
    "%load_ext autoreload\n",
    "\n",
    "%autoreload 2"
   ]
  },
  {
   "cell_type": "markdown",
   "metadata": {},
   "source": [
    "## Как было раньше"
   ]
  },
  {
   "cell_type": "code",
   "execution_count": null,
   "metadata": {
    "collapsed": false
   },
   "outputs": [],
   "source": [
    "import time\n",
    "import os\n",
    "\n",
    "pid = os.fork()\n",
    "if pid == 0:\n",
    "    # дочерний процесс\n",
    "    while True:\n",
    "        print(\"child:\", os.getpid())\n",
    "        time.sleep(5)\n",
    "else:\n",
    "    # родительский процесс\n",
    "    print(\"parent:\", os.getpid())\n",
    "    os.wait()"
   ]
  },
  {
   "cell_type": "code",
   "execution_count": 9,
   "metadata": {
    "collapsed": false
   },
   "outputs": [
    {
     "data": {
      "text/plain": [
       "0"
      ]
     },
     "execution_count": 9,
     "metadata": {},
     "output_type": "execute_result"
    }
   ],
   "source": [
    "os.system(\"dir\")"
   ]
  },
  {
   "cell_type": "markdown",
   "metadata": {},
   "source": [
    "#### Задача 1."
   ]
  },
  {
   "cell_type": "markdown",
   "metadata": {},
   "source": [
    "Задача: суммирование всех элементов массива"
   ]
  },
  {
   "cell_type": "code",
   "execution_count": 6,
   "metadata": {
    "collapsed": true
   },
   "outputs": [],
   "source": [
    "size = 10 * 1000 * 1000"
   ]
  },
  {
   "cell_type": "markdown",
   "metadata": {},
   "source": [
    "Синхронный запуск"
   ]
  },
  {
   "cell_type": "code",
   "execution_count": 7,
   "metadata": {
    "collapsed": false
   },
   "outputs": [],
   "source": [
    "arr = [1 for _ in range(size)]"
   ]
  },
  {
   "cell_type": "code",
   "execution_count": 6,
   "metadata": {
    "collapsed": false
   },
   "outputs": [
    {
     "name": "stdout",
     "output_type": "stream",
     "text": [
      "10 loops, best of 3: 108 ms per loop\n"
     ]
    }
   ],
   "source": [
    "%%timeit\n",
    "_ = sum(arr)"
   ]
  },
  {
   "cell_type": "markdown",
   "metadata": {},
   "source": [
    "#### Задача 2."
   ]
  },
  {
   "cell_type": "markdown",
   "metadata": {},
   "source": [
    "Файл reader/search_text.py: функция, которая делает запросы к вики"
   ]
  },
  {
   "cell_type": "code",
   "execution_count": null,
   "metadata": {
    "collapsed": true
   },
   "outputs": [],
   "source": [
    "def search_text(args, cons=False):\n",
    "    tmp, query = args\n",
    "    if cons:\n",
    "        print(query)\n",
    "    url = tmp.format(urlencode({\"search\": query}))\n",
    "    req = get(url)\n",
    "    assert req.status_code == 200, \"request failed\"\n",
    "    soup = BeautifulSoup(req.text, \"lxml\")\n",
    "    return \" \".join(list(map(lambda x: str(x.text).replace(\"\\n\", \" \").strip(),\n",
    "                              soup.find(\"div\", {'id': 'mw-content-text'}).findAll(\"p\")[2:])))"
   ]
  },
  {
   "cell_type": "code",
   "execution_count": 1,
   "metadata": {
    "collapsed": false
   },
   "outputs": [],
   "source": [
    "# Файл reader/reader.py\n",
    "from reader import WikiReader"
   ]
  },
  {
   "cell_type": "code",
   "execution_count": 2,
   "metadata": {
    "collapsed": false
   },
   "outputs": [],
   "source": [
    "wr = WikiReader([\"Cat\", \"Alpaca\", \"Iguana\", \"Monkey\", \"Goat\", \"Lion\", \"Panda\"])"
   ]
  },
  {
   "cell_type": "markdown",
   "metadata": {},
   "source": [
    "Синхронный запуск поиска"
   ]
  },
  {
   "cell_type": "code",
   "execution_count": null,
   "metadata": {
    "collapsed": true
   },
   "outputs": [],
   "source": [
    "def run_synchronously(self):\n",
    "    return dict(zip(self.__queries, map(self.search_text,\n",
    "                                        zip([self.__tmp] * len(self.__queries), self.__queries))))"
   ]
  },
  {
   "cell_type": "code",
   "execution_count": 4,
   "metadata": {
    "collapsed": false
   },
   "outputs": [
    {
     "name": "stdout",
     "output_type": "stream",
     "text": [
      "1 loop, best of 3: 4.9 s per loop\n"
     ]
    }
   ],
   "source": [
    "%%timeit\n",
    "_ = wr.run_synchronously()"
   ]
  },
  {
   "cell_type": "markdown",
   "metadata": {},
   "source": [
    "## subprocess"
   ]
  },
  {
   "cell_type": "code",
   "execution_count": 11,
   "metadata": {
    "collapsed": true
   },
   "outputs": [],
   "source": [
    "import subprocess as sp"
   ]
  },
  {
   "cell_type": "markdown",
   "metadata": {},
   "source": [
    "### Popen"
   ]
  },
  {
   "cell_type": "code",
   "execution_count": 12,
   "metadata": {
    "collapsed": false,
    "scrolled": true
   },
   "outputs": [
    {
     "data": {
      "text/plain": [
       "<subprocess.Popen at 0x4d87de4f98>"
      ]
     },
     "execution_count": 12,
     "metadata": {},
     "output_type": "execute_result"
    }
   ],
   "source": [
    "p = sp.Popen([\"git\", \"help\", \"-a\"])\n",
    "p"
   ]
  },
  {
   "cell_type": "markdown",
   "metadata": {},
   "source": [
    "#### Получение результатов подпроцесса"
   ]
  },
  {
   "cell_type": "code",
   "execution_count": 13,
   "metadata": {
    "collapsed": true
   },
   "outputs": [],
   "source": [
    "p.stdout"
   ]
  },
  {
   "cell_type": "code",
   "execution_count": 14,
   "metadata": {
    "collapsed": false
   },
   "outputs": [
    {
     "data": {
      "text/plain": [
       "[b'usage: git [--version] [--help] [-C <path>] [-c name=value]\\n',\n",
       " b'           [--exec-path[=<path>]] [--html-path] [--man-path] [--info-path]\\n',\n",
       " b'           [-p | --paginate | --no-pager] [--no-replace-objects] [--bare]\\n']"
      ]
     },
     "execution_count": 14,
     "metadata": {},
     "output_type": "execute_result"
    }
   ],
   "source": [
    "p = sp.Popen([\"git\", \"help\", \"-a\"], stdout=sp.PIPE)\n",
    "p.wait()\n",
    "list(p.stdout)[:3]"
   ]
  },
  {
   "cell_type": "markdown",
   "metadata": {},
   "source": [
    "### run"
   ]
  },
  {
   "cell_type": "code",
   "execution_count": 15,
   "metadata": {
    "collapsed": false
   },
   "outputs": [
    {
     "data": {
      "text/plain": [
       "CompletedProcess(args=['g++', 'sum.cpp', '-o', 'sum.out'], returncode=0, stderr=b'')"
      ]
     },
     "execution_count": 15,
     "metadata": {},
     "output_type": "execute_result"
    }
   ],
   "source": [
    "# Файл sum.cpp\n",
    "\"\"\"\n",
    "#include <iostream>\n",
    "\n",
    "int Sum(int first, int second) {\n",
    "    return first + second;\n",
    "}\n",
    "\n",
    "int main() {\n",
    "    int first = 0;\n",
    "    int second = 0;\n",
    "    std::cin >> first >> second;\n",
    "    std::cout << Sum(first, second) << std::endl;\n",
    "}\n",
    "\"\"\"\n",
    "\n",
    "sp.run(['g++', 'sum.cpp', '-o', 'sum.out'], stderr=sp.PIPE)"
   ]
  },
  {
   "cell_type": "code",
   "execution_count": 82,
   "metadata": {
    "collapsed": false
   },
   "outputs": [
    {
     "data": {
      "text/plain": [
       "CompletedProcess(args=['./sum.out'], returncode=0, stdout=b'5\\r\\n')"
      ]
     },
     "execution_count": 82,
     "metadata": {},
     "output_type": "execute_result"
    }
   ],
   "source": [
    "sp.run(['./sum.out'], stdout=sp.PIPE, input=b'2 3')"
   ]
  },
  {
   "cell_type": "markdown",
   "metadata": {},
   "source": [
    "### Handling errors"
   ]
  },
  {
   "cell_type": "code",
   "execution_count": 72,
   "metadata": {
    "collapsed": false
   },
   "outputs": [
    {
     "data": {
      "text/plain": [
       "CompletedProcess(args=['g++', 'bad_sum.cpp', '-o', 'sum.out'], returncode=1, stderr=b\"bad_sum.cpp: In function 'int main()':\\r\\nbad_sum.cpp:10:5: error: 'cin' is not a member of 'std'\\r\\n     std::cin >> a >> b;\\r\\n     ^\\r\\nbad_sum.cpp:11:5: error: 'cout' is not a member of 'std'\\r\\n     std::cout << Sum(a, b) << '\\\\n';\\r\\n     ^\\r\\n\")"
      ]
     },
     "execution_count": 72,
     "metadata": {},
     "output_type": "execute_result"
    }
   ],
   "source": [
    "# Файл bad_sum.cpp\n",
    "\"\"\"\n",
    "// #include <iostream>\n",
    "\n",
    "int Sum(int first, int second) {\n",
    "    return first + second;\n",
    "}\n",
    "\n",
    "int main() {\n",
    "    int first = 0;\n",
    "    int second = 0;\n",
    "    std::cin >> first >> second;\n",
    "    std::cout << Sum(first, second) << std::endl;\n",
    "}\n",
    "\"\"\"\n",
    "\n",
    "sp.run(['g++', 'bad_sum.cpp', '-o', 'sum.out'], stderr=sp.PIPE)"
   ]
  },
  {
   "cell_type": "markdown",
   "metadata": {},
   "source": [
    "### shlex - строка аргументов"
   ]
  },
  {
   "cell_type": "code",
   "execution_count": 76,
   "metadata": {
    "collapsed": false
   },
   "outputs": [
    {
     "data": {
      "text/plain": [
       "CompletedProcess(args=['g++', 'sum.cpp', '-o', 'sum.out'], returncode=0)"
      ]
     },
     "execution_count": 76,
     "metadata": {},
     "output_type": "execute_result"
    }
   ],
   "source": [
    "import shlex\n",
    "sp.run(shlex.split('g++ sum.cpp -o sum.out'))"
   ]
  },
  {
   "cell_type": "markdown",
   "metadata": {},
   "source": [
    "### Тестируем на вики"
   ]
  },
  {
   "cell_type": "markdown",
   "metadata": {},
   "source": [
    "Асинхронный запуск поиска с помощью subprocess"
   ]
  },
  {
   "cell_type": "code",
   "execution_count": null,
   "metadata": {
    "collapsed": true
   },
   "outputs": [],
   "source": [
    "class WikiReader(object):\n",
    "    ...\n",
    "    def run_async_sub_proc(self):\n",
    "        def communicate(sub_process):\n",
    "            out, _ = sub_process.communicate()\n",
    "            return out.decode(\"utf-8\").split(\"\\n\")\n",
    "\n",
    "        sub_processes = [\n",
    "            sp.Popen([\"python\", \"./reader/search_text.py\", self.__tmp, query],\n",
    "                     stdout=sp.PIPE, stderr=sp.PIPE)\n",
    "            for query in self.__queries]\n",
    "        res = []\n",
    "        for sub_process, query in zip(sub_processes, self.__queries):\n",
    "            res.append(communicate(sub_process))\n",
    "        if not all(map(lambda x: x[0][0].strip() == x[1], zip(res, self.__queries))):\n",
    "            print(\"Failed on results order\")\n",
    "        return dict(zip(self.__queries, list(map(lambda x: x[1], res))))\n",
    "    ..."
   ]
  },
  {
   "cell_type": "code",
   "execution_count": 8,
   "metadata": {
    "collapsed": false
   },
   "outputs": [
    {
     "name": "stdout",
     "output_type": "stream",
     "text": [
      "1 loop, best of 3: 4.62 s per loop\n"
     ]
    }
   ],
   "source": [
    "%%timeit\n",
    "_ = wr.run_async_sub_proc()"
   ]
  },
  {
   "cell_type": "markdown",
   "metadata": {},
   "source": [
    "## threading"
   ]
  },
  {
   "cell_type": "code",
   "execution_count": 1,
   "metadata": {
    "collapsed": true
   },
   "outputs": [],
   "source": [
    "import threading"
   ]
  },
  {
   "cell_type": "code",
   "execution_count": 2,
   "metadata": {
    "collapsed": false
   },
   "outputs": [
    {
     "name": "stdout",
     "output_type": "stream",
     "text": [
      " Hi! I am 0  Hi! I am 1  Hi! I am 2  Hi! I am 3  |  |  |  | "
     ]
    }
   ],
   "source": [
    "def thread_job(number):\n",
    "    # time.sleep(np.random.rand())\n",
    "    print(\" Hi! I am {} \".format(number), end = \" | \")\n",
    "\n",
    "\n",
    "def run_threads(count):\n",
    "    threads = [\n",
    "        threading.Thread(target=thread_job, args=(i,))\n",
    "        for i in range(count)\n",
    "    ]\n",
    "    for thread in threads:\n",
    "        thread.start()\n",
    "    # ALL NON-DAEMON THREADS MUST BE JOINED\n",
    "    for thread in threads:\n",
    "        thread.join()\n",
    "\n",
    "run_threads(4)"
   ]
  },
  {
   "cell_type": "markdown",
   "metadata": {},
   "source": [
    "Далее примеры из https://www.youtube.com/watch?v=Bv25Dwe84g0"
   ]
  },
  {
   "cell_type": "code",
   "execution_count": 5,
   "metadata": {
    "collapsed": false
   },
   "outputs": [
    {
     "name": "stdout",
     "output_type": "stream",
     "text": [
      "1 2 3 4 5 2 5 5 6 5 "
     ]
    },
    {
     "data": {
      "text/plain": [
       "5"
      ]
     },
     "execution_count": 5,
     "metadata": {},
     "output_type": "execute_result"
    }
   ],
   "source": [
    "import random\n",
    "import time\n",
    "\n",
    "counter = 0\n",
    "def thread_job():\n",
    "    global counter\n",
    "    old_counter = counter\n",
    "    time.sleep(random.randint(0, 1))\n",
    "    counter = old_counter + 1\n",
    "    print('{} '.format(counter), end='')\n",
    "\n",
    "threads = [threading.Thread(target=thread_job) for _ in range(10)]\n",
    "for thread in threads:\n",
    "    thread.start()\n",
    "for thread in threads:\n",
    "    thread.join()\n",
    "counter"
   ]
  },
  {
   "cell_type": "markdown",
   "metadata": {},
   "source": [
    "### Блокировки"
   ]
  },
  {
   "cell_type": "code",
   "execution_count": 16,
   "metadata": {
    "collapsed": false
   },
   "outputs": [
    {
     "name": "stdout",
     "output_type": "stream",
     "text": [
      "1 2 3 4 5 6 7 9 8 10 "
     ]
    },
    {
     "data": {
      "text/plain": [
       "10"
      ]
     },
     "execution_count": 16,
     "metadata": {},
     "output_type": "execute_result"
    }
   ],
   "source": [
    "counter = 0\n",
    "def thread_job(lock):\n",
    "    time.sleep(random.randint(0, 1))\n",
    "    lock.acquire()\n",
    "    global counter\n",
    "    counter += 1\n",
    "    print('{} '.format(counter), end='')\n",
    "    lock.release()\n",
    "\n",
    "lock = threading.Lock()\n",
    "threads = [\n",
    "    threading.Thread(target=thread_job, args=(lock,))\n",
    "    for i in range(10)\n",
    "]\n",
    "for thread in threads:\n",
    "    thread.start()\n",
    "for thread in threads:\n",
    "    thread.join()\n",
    "\n",
    "counter"
   ]
  },
  {
   "cell_type": "code",
   "execution_count": 6,
   "metadata": {
    "collapsed": false
   },
   "outputs": [
    {
     "name": "stdout",
     "output_type": "stream",
     "text": [
      "1 2 3 4 5 6 7 8 9 10 "
     ]
    },
    {
     "data": {
      "text/plain": [
       "10"
      ]
     },
     "execution_count": 6,
     "metadata": {},
     "output_type": "execute_result"
    }
   ],
   "source": [
    "counter = 0\n",
    "def thread_job(lock):\n",
    "    with lock:\n",
    "        time.sleep(random.randint(0, 1))\n",
    "        global counter\n",
    "        counter += 1\n",
    "        print('{} '.format(counter), end='')\n",
    "\n",
    "lock = threading.Lock()\n",
    "threads = [\n",
    "    threading.Thread(target=thread_job, args=(lock,))\n",
    "    for i in range(10)\n",
    "]\n",
    "for thread in threads:\n",
    "    thread.start()\n",
    "for thread in threads:\n",
    "    thread.join()\n",
    "\n",
    "counter"
   ]
  },
  {
   "cell_type": "markdown",
   "metadata": {},
   "source": [
    "#### Если вдруг используете блокировки, то только RLock\n",
    "\n",
    "http://asvetlov.blogspot.ru/2010/11/2.html"
   ]
  },
  {
   "cell_type": "code",
   "execution_count": null,
   "metadata": {
    "collapsed": true
   },
   "outputs": [],
   "source": [
    "import threading\n",
    "\n",
    "\n",
    "class Point(object):\n",
    "    def __init__(self):\n",
    "        self._mutex = threading.RLock()\n",
    "        self._x = 0\n",
    "        self._y = 0\n",
    "\n",
    "    def get(self):\n",
    "        with self._mutex:\n",
    "            return (self._x, self._y)\n",
    "\n",
    "    def set(self, x, y):\n",
    "        with self._mutex:\n",
    "            self._x = x\n",
    "            self._x = y"
   ]
  },
  {
   "cell_type": "code",
   "execution_count": null,
   "metadata": {
    "collapsed": true
   },
   "outputs": [],
   "source": [
    "class ColoredPoint(Point):\n",
    "    def __init__(self):\n",
    "        super(ColoredPoint, self).__init__()\n",
    "        self._color = 'green'\n",
    "\n",
    "    @property\n",
    "    def color(self):\n",
    "        with self._mutex:\n",
    "            return self._color\n",
    "\n",
    "    @color.setter\n",
    "    def color(self, val):\n",
    "        with self._mutex:\n",
    "            self._color = val\n",
    "\n",
    "    def do(self, observer):\n",
    "        with self._mutex:\n",
    "            if self._color == 'red':\n",
    "                observer(self.get())"
   ]
  },
  {
   "cell_type": "markdown",
   "metadata": {},
   "source": [
    "### Правильное решение (очереди)"
   ]
  },
  {
   "cell_type": "code",
   "execution_count": 20,
   "metadata": {
    "collapsed": false
   },
   "outputs": [],
   "source": [
    "from queue import Queue\n",
    "import threading\n",
    "class Counter(object):\n",
    "    def __init__(self, value=0):\n",
    "        self.value = value\n",
    "def thread_job_adder(counter, input_q, printer_q):\n",
    "    while True:\n",
    "        counter.value += input_q.get()\n",
    "        input_q.task_done()\n",
    "        printer_q.put(counter.value)\n",
    "def thread_job_printer(printer_q):\n",
    "    while True:\n",
    "        print(printer_q.get(), end=' ')\n",
    "        printer_q.task_done()\n",
    "def data_generator(input_q):\n",
    "    input_q.put(1)\n",
    "def get_counted(size=10):\n",
    "    counter = Counter()\n",
    "    input_q = Queue()\n",
    "    printer_q = Queue()\n",
    "    adder_daemon = threading.Thread(target=thread_job_adder,\n",
    "                                         args=(counter, input_q, printer_q), daemon=True)\n",
    "    adder_daemon.start()\n",
    "    \n",
    "    printer_daemon = threading.Thread(target=thread_job_printer,\n",
    "                                         args=(printer_q, ), daemon=True)\n",
    "    printer_daemon.start()\n",
    "    \n",
    "    threads = [threading.Thread(target=data_generator, args=(input_q, ))\n",
    "                   for query in range(size)]\n",
    "    for thread in threads:\n",
    "        thread.start()\n",
    "    for thread in threads:\n",
    "        thread.join()\n",
    "    input_q.join()\n",
    "    printer_q.join()\n"
   ]
  },
  {
   "cell_type": "code",
   "execution_count": 21,
   "metadata": {
    "collapsed": false
   },
   "outputs": [
    {
     "name": "stdout",
     "output_type": "stream",
     "text": [
      "1 2 3 4 5 6 7 8 9 10 "
     ]
    }
   ],
   "source": [
    "get_counted()"
   ]
  },
  {
   "cell_type": "markdown",
   "metadata": {},
   "source": [
    "### Тестируем на сумму"
   ]
  },
  {
   "cell_type": "code",
   "execution_count": 1,
   "metadata": {
    "collapsed": false
   },
   "outputs": [],
   "source": [
    "size = 10 * 1000 * 1000\n",
    "arr = [1 for _ in range(size)]\n",
    "process_count = 8\n",
    "part_size = size // process_count\n",
    "data = [arr[i * part_size: (i + 1) * part_size] for i in range(process_count)]"
   ]
  },
  {
   "cell_type": "code",
   "execution_count": 10,
   "metadata": {
    "collapsed": true
   },
   "outputs": [],
   "source": [
    "import queue\n",
    "\n",
    "def thread_job(arr, results_queue):\n",
    "    results_queue.put(sum(arr))\n",
    "\n",
    "def sum_using_threads(data):\n",
    "    results_queue = queue.Queue()\n",
    "    threads = [\n",
    "        threading.Thread(target=thread_job, args=(batch, results_queue))\n",
    "        for batch in data]\n",
    "    for thread in threads:\n",
    "        thread.start()\n",
    "\n",
    "    results = []\n",
    "    for thread in threads:\n",
    "        results.append(results_queue.get())\n",
    "        thread.join()\n",
    "\n",
    "    return sum(results)"
   ]
  },
  {
   "cell_type": "code",
   "execution_count": 11,
   "metadata": {
    "collapsed": false
   },
   "outputs": [
    {
     "name": "stdout",
     "output_type": "stream",
     "text": [
      "10 loops, best of 3: 110 ms per loop\n"
     ]
    }
   ],
   "source": [
    "%%timeit\n",
    "sum(arr)"
   ]
  },
  {
   "cell_type": "code",
   "execution_count": 12,
   "metadata": {
    "collapsed": false
   },
   "outputs": [
    {
     "name": "stdout",
     "output_type": "stream",
     "text": [
      "10 loops, best of 3: 114 ms per loop\n"
     ]
    }
   ],
   "source": [
    "%%timeit\n",
    "sum_using_threads(data)"
   ]
  },
  {
   "cell_type": "markdown",
   "metadata": {},
   "source": [
    "### Тестируем на вики"
   ]
  },
  {
   "cell_type": "markdown",
   "metadata": {},
   "source": [
    "Асинхронный запуск поиска с помощью потоков"
   ]
  },
  {
   "cell_type": "code",
   "execution_count": null,
   "metadata": {
    "collapsed": true
   },
   "outputs": [],
   "source": [
    "class WikiReader(object):\n",
    "    ...\n",
    "    def run_async_thread(self):\n",
    "        res = list()\n",
    "\n",
    "        def thread_job(tmp, query):\n",
    "            res.append((query, self.search_text((tmp, query))))\n",
    "\n",
    "        threads = [threading.Thread(target=thread_job, args=(self.__tmp, query,))\n",
    "                   for query in self.__queries]\n",
    "\n",
    "        for thread in threads:\n",
    "            thread.start()\n",
    "\n",
    "        for thread in threads:\n",
    "            thread.join()\n",
    "\n",
    "        if not all(map(lambda x: x[0][0].strip() == x[1], zip(res, self.__queries))):\n",
    "            print(\"Failed on results order\")\n",
    "\n",
    "        return dict(zip(self.__queries, list(map(lambda x: x[1], res))))\n",
    "    ..."
   ]
  },
  {
   "cell_type": "code",
   "execution_count": 7,
   "metadata": {
    "collapsed": false
   },
   "outputs": [
    {
     "name": "stdout",
     "output_type": "stream",
     "text": [
      "Failed on results order\n",
      "Failed on results order\n",
      "Failed on results order\n",
      "Failed on results order\n",
      "1 loop, best of 3: 2.69 s per loop\n"
     ]
    }
   ],
   "source": [
    "%%timeit\n",
    "_ = wr.run_async_thread()"
   ]
  },
  {
   "cell_type": "markdown",
   "metadata": {},
   "source": [
    "Асинхронный запуск поиска с помощью потоков (выстраиваем порядок) - неправильная реализация (Почему?)"
   ]
  },
  {
   "cell_type": "code",
   "execution_count": null,
   "metadata": {
    "collapsed": true
   },
   "outputs": [],
   "source": [
    "class WikiReader(object):\n",
    "    ...\n",
    "    def run_async_thread_with_q(self):\n",
    "        def thread_job(input_q, output_q):\n",
    "            while True:\n",
    "                tmp, query = input_q.get()\n",
    "                res = (query, self.search_text((tmp, query)))\n",
    "                output_q.put(res)\n",
    "                input_q.task_done()\n",
    "\n",
    "        def data_generator(input_q, tmp, query):\n",
    "            input_q.put((tmp, query))\n",
    "\n",
    "        input_q = Queue()\n",
    "        output_q = Queue()\n",
    "\n",
    "        thread_job_daemon = threading.Thread(target=thread_job,\n",
    "                             args=(input_q, output_q), daemon=True)\n",
    "        thread_job_daemon.start()\n",
    "\n",
    "        threads = [threading.Thread(target=data_generator, args=(input_q, self.__tmp, query, ))\n",
    "                   for query in self.__queries]\n",
    "        for thread in threads:\n",
    "            thread.start()\n",
    "        res = []\n",
    "        for thread, query in zip(threads, self.__queries):\n",
    "            res.append(output_q.get())\n",
    "            thread.join()\n",
    "        if not all(map(lambda x: x[0][0].strip() == x[1], zip(res, self.__queries))):\n",
    "            print(\"Failed on results order\")\n",
    "        input_q.join()\n",
    "        return dict(zip(self.__queries, list(map(lambda x: x[1], res))))\n",
    "    ..."
   ]
  },
  {
   "cell_type": "code",
   "execution_count": 12,
   "metadata": {
    "collapsed": false
   },
   "outputs": [
    {
     "name": "stdout",
     "output_type": "stream",
     "text": [
      "1 loop, best of 3: 4.95 s per loop\n"
     ]
    }
   ],
   "source": [
    "%%timeit\n",
    "res = wr.run_async_thread_with_q()"
   ]
  },
  {
   "cell_type": "markdown",
   "metadata": {},
   "source": [
    "### ThreadPoolExecutor"
   ]
  },
  {
   "cell_type": "code",
   "execution_count": null,
   "metadata": {
    "collapsed": true
   },
   "outputs": [],
   "source": [
    "# since Python 3.2\n",
    "from concurrent.futures import ThreadPoolExecutor\n",
    "%%timeit\n",
    "executor = ThreadPoolExecutor(max_workers=8)\n",
    "list(executor.map(sum_using_threads, data))"
   ]
  },
  {
   "cell_type": "code",
   "execution_count": 3,
   "metadata": {
    "collapsed": false
   },
   "outputs": [
    {
     "name": "stdout",
     "output_type": "stream",
     "text": [
      "10 loops, best of 3: 116 ms per loop\n"
     ]
    }
   ],
   "source": [
    "%%timeit\n",
    "from concurrent.futures import ThreadPoolExecutor\n",
    "\n",
    "executor = ThreadPoolExecutor(max_workers=8)\n",
    "futures = []\n",
    "for batch in data:\n",
    "    future_result = executor.submit(sum, batch)\n",
    "    futures.append(future_result)\n",
    "results = [f.result() for f in futures]"
   ]
  },
  {
   "cell_type": "markdown",
   "metadata": {},
   "source": [
    "## multiprocessing"
   ]
  },
  {
   "cell_type": "code",
   "execution_count": 18,
   "metadata": {
    "collapsed": true
   },
   "outputs": [],
   "source": [
    "from multiprocessing import Process\n",
    "\n",
    "def f(name):\n",
    "    print('hello', name)\n",
    "\n",
    "\n",
    "p = Process(target=f, args=('bob',))\n",
    "p.start()\n",
    "p.join()"
   ]
  },
  {
   "cell_type": "code",
   "execution_count": null,
   "metadata": {
    "collapsed": false
   },
   "outputs": [],
   "source": [
    "from multiprocessing import Process, Queue\n",
    "\n",
    "def f(q):\n",
    "    q.put([42, None, 'hello'])\n",
    "    print(\"task_done()\")\n",
    "    q.task_done()\n",
    "\n",
    "q = Queue()\n",
    "p = Process(target=f, args=(q,))\n",
    "print(\"p\")\n",
    "p.start()\n",
    "print(\"q get\")\n",
    "print(q.get())\n",
    "print(\"before\")\n",
    "q.join()\n",
    "p.join()"
   ]
  },
  {
   "cell_type": "markdown",
   "metadata": {},
   "source": [
    "### Тестируем на задачи суммирования"
   ]
  },
  {
   "cell_type": "code",
   "execution_count": 22,
   "metadata": {
    "collapsed": true
   },
   "outputs": [],
   "source": [
    "import multiprocessing"
   ]
  },
  {
   "cell_type": "code",
   "execution_count": 23,
   "metadata": {
    "collapsed": true
   },
   "outputs": [],
   "source": [
    "size = 10 * 1000 * 1000\n",
    "arr = [1 for _ in range(size)]\n",
    "process_count = 8\n",
    "part_size = size // process_count\n",
    "data = [arr[i * part_size: (i + 1) * part_size] for i in range(process_count)]"
   ]
  },
  {
   "cell_type": "code",
   "execution_count": 6,
   "metadata": {
    "collapsed": false
   },
   "outputs": [
    {
     "name": "stdout",
     "output_type": "stream",
     "text": [
      "10 loops, best of 3: 109 ms per loop\n"
     ]
    }
   ],
   "source": [
    "%%timeit\n",
    "sum(arr)"
   ]
  },
  {
   "cell_type": "code",
   "execution_count": 3,
   "metadata": {
    "collapsed": false
   },
   "outputs": [
    {
     "name": "stdout",
     "output_type": "stream",
     "text": [
      "1 loop, best of 3: 1.16 s per loop\n"
     ]
    }
   ],
   "source": [
    "%%timeit\n",
    "with multiprocessing.Pool(process_count) as p:\n",
    "    _ = sum(p.map(sum, data))"
   ]
  },
  {
   "cell_type": "code",
   "execution_count": 24,
   "metadata": {
    "collapsed": true
   },
   "outputs": [],
   "source": [
    "def job(count):\n",
    "    return sum(range(count))"
   ]
  },
  {
   "cell_type": "code",
   "execution_count": null,
   "metadata": {
    "collapsed": true
   },
   "outputs": [],
   "source": [
    "%%timeit\n",
    "with multiprocessing.Pool(process_count) as p:\n",
    "    _ = sum(p.map(job, [part_size] * process_count))"
   ]
  },
  {
   "cell_type": "markdown",
   "metadata": {},
   "source": [
    "### Тестируем на вики"
   ]
  },
  {
   "cell_type": "markdown",
   "metadata": {},
   "source": [
    "Асинхронный запуск поиска с помощью multiprocess"
   ]
  },
  {
   "cell_type": "code",
   "execution_count": null,
   "metadata": {
    "collapsed": true
   },
   "outputs": [],
   "source": [
    "class WikiReader(object):\n",
    "    ...\n",
    "    def run_async_multiprocess(self):\n",
    "        with multiprocessing.Pool(8) as executor:\n",
    "            res = list(executor.map(thread_job_multi_proc,\n",
    "                                    zip([self.__tmp] * len(self.__queries), self.__queries)))\n",
    "        if not all(map(lambda x: x[0][0].strip() == x[1], zip(res, self.__queries))):\n",
    "            print(\"Failed on results order\")\n",
    "        return dict(res)\n",
    "    ..."
   ]
  },
  {
   "cell_type": "code",
   "execution_count": 3,
   "metadata": {
    "collapsed": false
   },
   "outputs": [
    {
     "name": "stdout",
     "output_type": "stream",
     "text": [
      "1 loop, best of 3: 4.37 s per loop\n"
     ]
    }
   ],
   "source": [
    "%%timeit\n",
    "res = wr.run_async_multiprocess()"
   ]
  }
 ],
 "metadata": {
  "kernelspec": {
   "display_name": "Python 3",
   "language": "python",
   "name": "python3"
  },
  "language_info": {
   "codemirror_mode": {
    "name": "ipython",
    "version": 3
   },
   "file_extension": ".py",
   "mimetype": "text/x-python",
   "name": "python",
   "nbconvert_exporter": "python",
   "pygments_lexer": "ipython3",
   "version": "3.6.0"
  }
 },
 "nbformat": 4,
 "nbformat_minor": 2
}

{
 "cells": [
  {
   "cell_type": "markdown",
   "metadata": {},
   "source": [
    "# Faster python"
   ]
  },
  {
   "cell_type": "code",
   "execution_count": 23,
   "metadata": {
    "collapsed": false
   },
   "outputs": [
    {
     "name": "stdout",
     "output_type": "stream",
     "text": [
      "Populating the interactive namespace from numpy and matplotlib\n"
     ]
    }
   ],
   "source": [
    "%pylab inline\n",
    "\n",
    "import numpy as np\n",
    "import seaborn as sns\n",
    "\n",
    "sns.set_style(\"whitegrid\")\n",
    "pylab.rcParams[\"figure.figsize\"] = [12, 5]"
   ]
  },
  {
   "cell_type": "markdown",
   "metadata": {},
   "source": [
    "### Одномерное уравнение теплопроводности"
   ]
  },
  {
   "cell_type": "code",
   "execution_count": 51,
   "metadata": {
    "collapsed": true
   },
   "outputs": [],
   "source": [
    "import math\n",
    "import numpy as np\n",
    "from matplotlib import pyplot as plt\n",
    "from matplotlib import colors, cm\n",
    "\n",
    "\n",
    "class HeatEquation(object):\n",
    "    def __init__(\n",
    "            self,\n",
    "            x0=0,\n",
    "            xN=math.pi,\n",
    "            u0=math.sin,\n",
    "            f=lambda t, x: math.cos(t / (x + 0.01)),\n",
    "            a=1,\n",
    "            N=1000,\n",
    "            h=None,\n",
    "            T=1000,\n",
    "            tau=None\n",
    "    ):\n",
    "        self.x0 = x0\n",
    "        self.xN = xN\n",
    "        self.u0 = u0\n",
    "        self.a = a\n",
    "        self.N = N\n",
    "        self.h = h if h else (xN - x0) / N\n",
    "        # Feel bounds\n",
    "        self._u0 = list(map(u0, map(lambda i: i * self.h, range(N + 1))))\n",
    "        self.f = f\n",
    "        self.T = T\n",
    "        self.tau = self.h * self.h / 2\n",
    "\n",
    "    def solve(self):\n",
    "        grid = [self._u0]\n",
    "        N = (self.N + 1)\n",
    "        a = [-self.a / self.h ** 2] * (self.N)\n",
    "        b = [1 / self.tau + 2 * self.a / self.h ** 2] * N\n",
    "        for t in range(1, self.T):\n",
    "            f = []\n",
    "            for x in range(N):\n",
    "                f.append(grid[-1][x] / self.tau + self.f(t * self.tau, x * self.h))\n",
    "            grid.append(self.sweep(a, b, a, f))\n",
    "        return grid\n",
    "\n",
    "    @staticmethod\n",
    "    def sweep(a, b, c, f):\n",
    "        alpha = [-c[0] / b[0]]\n",
    "        beta = [f[0] / b[0]]\n",
    "        n = len(f)\n",
    "        x = [0] * n\n",
    "        for i in range(1, n - 1):\n",
    "            m = (b[i] + a[i - 1] * alpha[i - 1])\n",
    "            alpha.append(-c[i] / m)\n",
    "            beta.append((f[i] - a[i - 1] * beta[i - 1]) / m)\n",
    "        beta.append((f[-1] - a[-1] * beta[-1]) / (b[-1] + a[-1] * alpha[-1]))\n",
    "        x[-1] = beta[-1]\n",
    "\n",
    "        for i in reversed(range(n - 1)):\n",
    "            x[i] = alpha[i] * x[i + 1] + beta[i]\n",
    "\n",
    "        return x\n",
    "\n",
    "    def solve_numpy(self):\n",
    "        N = (self.N + 1)\n",
    "        grid = np.zeros((self.T, N), dtype=\"float32\")\n",
    "        grid[0] = np.array(self._u0)\n",
    "        a = np.zeros((self.N), dtype=\"float32\")\n",
    "        a[:] = -self.a / self.h ** 2\n",
    "        b = np.zeros((N), dtype=\"float32\")\n",
    "        b[:] = 1.0 / self.tau + 2.0 * self.a / self.h ** 2.0\n",
    "        for t in range(1, self.T):\n",
    "            f = np.zeros((N))\n",
    "            for x in range(N):\n",
    "                f[x] = grid[-1][x] / self.tau + self.f(t * self.tau, x * self.h)\n",
    "            grid[t] = self.sweep_numpy(a, b, a, f)\n",
    "        return grid\n",
    "\n",
    "    @staticmethod\n",
    "    def sweep_numpy(a, b, c, f):\n",
    "        alpha = np.zeros_like(a)\n",
    "        alpha[0] = -c[0] / b[0]\n",
    "        beta = np.zeros_like(f)\n",
    "        beta[0] = f[0] / b[0]\n",
    "        x = np.zeros(f.shape)\n",
    "        for i in range(1, f.shape[0] - 1):\n",
    "            m = (b[i] + a[i - 1] * alpha[i - 1])\n",
    "            alpha[i] = -c[i] / m\n",
    "            beta[i] = (f[i] - a[i - 1] * beta[i - 1]) / m\n",
    "        beta[f.shape[0]-1] = (f[-1] - a[-1] * beta[-1]) / (b[-1] + a[-1] * alpha[-1])\n",
    "        x[-1] = beta[-1]\n",
    "\n",
    "        for i in reversed(range(f.shape[0] - 1)):\n",
    "            x[i] = alpha[i] * x[i + 1] + beta[i]\n",
    "\n",
    "        return x\n",
    "\n",
    "    @staticmethod\n",
    "    def plot(res, step=1):\n",
    "        res = np.array(res)\n",
    "\n",
    "        zmax = np.max(np.max(res)) + 0.01\n",
    "        zmin = np.min(np.min(res)) - 0.01\n",
    "        norm = colors.Normalize(vmin=zmin, vmax=zmax, clip=False)\n",
    "\n",
    "        plt.imshow(res, interpolation='bilinear', cmap=cm.coolwarm, norm=norm)\n",
    "\n",
    "    pass\n"
   ]
  },
  {
   "cell_type": "code",
   "execution_count": 52,
   "metadata": {
    "collapsed": true
   },
   "outputs": [],
   "source": [
    "he = HeatEquation()"
   ]
  },
  {
   "cell_type": "code",
   "execution_count": 53,
   "metadata": {
    "collapsed": false
   },
   "outputs": [
    {
     "name": "stdout",
     "output_type": "stream",
     "text": [
      "1.41 s ± 6.87 ms per loop (mean ± std. dev. of 7 runs, 1 loop each)\n"
     ]
    }
   ],
   "source": [
    "%%timeit\n",
    "res = he.solve()"
   ]
  },
  {
   "cell_type": "code",
   "execution_count": 54,
   "metadata": {
    "collapsed": false
   },
   "outputs": [
    {
     "data": {
      "image/png": "[encoded data removed]",
      "text/plain": [
       "<matplotlib.figure.Figure at 0x7ffacfc08710>"
      ]
     },
     "metadata": {},
     "output_type": "display_data"
    }
   ],
   "source": [
    "res = he.solve()\n",
    "he.plot(res)"
   ]
  },
  {
   "cell_type": "code",
   "execution_count": 55,
   "metadata": {
    "collapsed": false
   },
   "outputs": [
    {
     "name": "stdout",
     "output_type": "stream",
     "text": [
      "15.6 s ± 16.6 ms per loop (mean ± std. dev. of 7 runs, 1 loop each)\n"
     ]
    }
   ],
   "source": [
    "%%timeit\n",
    "r = he.solve_numpy()"
   ]
  },
  {
   "cell_type": "markdown",
   "metadata": {},
   "source": [
    "### cProfile"
   ]
  },
  {
   "cell_type": "code",
   "execution_count": 56,
   "metadata": {
    "collapsed": false
   },
   "outputs": [
    {
     "name": "stdout",
     "output_type": "stream",
     "text": [
      "         5001010 function calls in 1.964 seconds\n",
      "\n",
      "   Ordered by: internal time\n",
      "\n",
      "   ncalls  tottime  percall  cumtime  percall filename:lineno(function)\n",
      "      999    0.780    0.001    0.877    0.001 <string>:45(sweep)\n",
      "        1    0.668    0.668    1.954    1.954 <string>:33(solve)\n",
      "   999999    0.238    0.000    0.340    0.000 <string>:14(<lambda>)\n",
      "  2997999    0.166    0.000    0.166    0.000 {method 'append' of 'list' objects}\n",
      "   999999    0.103    0.000    0.103    0.000 {built-in method cos}\n",
      "        1    0.008    0.008    1.963    1.963 <string>:2(<module>)\n",
      "        1    0.001    0.001    1.964    1.964 {built-in method exec}\n",
      "        1    0.000    0.000    0.000    0.000 <string>:9(__init__)\n",
      "     1001    0.000    0.000    0.000    0.000 <string>:28(<lambda>)\n",
      "      999    0.000    0.000    0.000    0.000 {built-in method len}\n",
      "        1    0.000    0.000    0.000    0.000 {built-in method __build_class__}\n",
      "        5    0.000    0.000    0.000    0.000 {built-in method hasattr}\n",
      "        1    0.000    0.000    0.000    0.000 <string>:8(HeatEquation)\n",
      "        2    0.000    0.000    0.000    0.000 <frozen importlib._bootstrap>:2264(_handle_fromlist)\n",
      "        1    0.000    0.000    0.000    0.000 {method 'disable' of '_lsprof.Profiler' objects}\n",
      "\n",
      "\n"
     ]
    }
   ],
   "source": [
    "import cProfile\n",
    "source = open(\"heateq.py\").read()\n",
    "cProfile.run(source, sort=\"tottime\") "
   ]
  },
  {
   "cell_type": "markdown",
   "metadata": {},
   "source": [
    "### line_profiler"
   ]
  },
  {
   "cell_type": "code",
   "execution_count": 57,
   "metadata": {
    "collapsed": true
   },
   "outputs": [],
   "source": [
    "%load_ext line_profiler"
   ]
  },
  {
   "cell_type": "code",
   "execution_count": 63,
   "metadata": {
    "collapsed": true
   },
   "outputs": [],
   "source": [
    "def solve(self):\n",
    "    grid = [self._u0]\n",
    "    N = (self.N + 1)\n",
    "    a = [-self.a / self.h ** 2] * (self.N)\n",
    "    b = [1 / self.tau + 2 * self.a / self.h ** 2] * N\n",
    "    for t in range(1, self.T):\n",
    "        f = []\n",
    "        for x in range(N):\n",
    "            f.append(grid[-1][x] / self.tau + self.f(t * self.tau, x * self.h))\n",
    "        grid.append(self.sweep(a, b, a, f))\n",
    "    return grid"
   ]
  },
  {
   "cell_type": "code",
   "execution_count": 64,
   "metadata": {
    "collapsed": true
   },
   "outputs": [],
   "source": [
    "%lprun -f solve solve(he)"
   ]
  },
  {
   "cell_type": "markdown",
   "metadata": {},
   "source": [
    "### Cython"
   ]
  },
  {
   "cell_type": "code",
   "execution_count": 3,
   "metadata": {
    "collapsed": true
   },
   "outputs": [],
   "source": [
    "%load_ext Cython"
   ]
  },
  {
   "cell_type": "code",
   "execution_count": 172,
   "metadata": {
    "collapsed": true
   },
   "outputs": [],
   "source": [
    "%%cython\n",
    "import math\n",
    "import numpy as np\n",
    "from matplotlib import pyplot as plt\n",
    "from matplotlib import colors, cm\n",
    "\n",
    "\n",
    "class HeatEquation(object):\n",
    "    def __init__(\n",
    "            self,\n",
    "            x0=0,\n",
    "            xN=math.pi,\n",
    "            u0=math.sin,\n",
    "            f=lambda t, x: math.cos(t / (x + 0.01)),\n",
    "            a=1,\n",
    "            N=1000,\n",
    "            h=None,\n",
    "            T=1000,\n",
    "            tau=None\n",
    "    ):\n",
    "        self.x0 = x0\n",
    "        self.xN = xN\n",
    "        self.u0 = u0\n",
    "        self.a = a\n",
    "        self.N = N\n",
    "        self.h = h if h else (xN - x0) / N\n",
    "        # Feel bounds\n",
    "        self._u0 = list(map(u0, map(lambda i: i * self.h, range(N + 1))))\n",
    "        self.f = f\n",
    "        self.T = T\n",
    "        self.tau = self.h * self.h / 2\n",
    "\n",
    "    def solve(self):\n",
    "        grid = [self._u0]\n",
    "        N = (self.N + 1)\n",
    "        a = [-self.a / self.h ** 2] * (self.N)\n",
    "        b = [1 / self.tau + 2 * self.a / self.h ** 2] * N\n",
    "        for t in range(1, self.T):\n",
    "            f = []\n",
    "            for x in range(N):\n",
    "                f.append(grid[-1][x] / self.tau + self.f(t * self.tau, x * self.h))\n",
    "            grid.append(self.sweep(a, b, a, f))\n",
    "        return grid\n",
    "\n",
    "    @staticmethod\n",
    "    def sweep(a, b, c, f):\n",
    "        alpha = [-c[0] / b[0]]\n",
    "        beta = [f[0] / b[0]]\n",
    "        n = len(f)\n",
    "        x = [0] * n\n",
    "        for i in range(1, n - 1):\n",
    "            m = (b[i] + a[i - 1] * alpha[i - 1])\n",
    "            alpha.append(-c[i] / m)\n",
    "            beta.append((f[i] - a[i - 1] * beta[i - 1]) / m)\n",
    "        beta.append((f[-1] - a[-1] * beta[-1]) / (b[-1] + a[-1] * alpha[-1]))\n",
    "        x[-1] = beta[-1]\n",
    "\n",
    "        for i in reversed(range(n - 1)):\n",
    "            x[i] = alpha[i] * x[i + 1] + beta[i]\n",
    "\n",
    "        return x\n",
    "\n",
    "    pass\n"
   ]
  },
  {
   "cell_type": "code",
   "execution_count": 173,
   "metadata": {
    "collapsed": true
   },
   "outputs": [],
   "source": [
    "he = HeatEquation()"
   ]
  },
  {
   "cell_type": "code",
   "execution_count": 174,
   "metadata": {
    "collapsed": false
   },
   "outputs": [
    {
     "name": "stdout",
     "output_type": "stream",
     "text": [
      "864 ms ± 10.3 ms per loop (mean ± std. dev. of 7 runs, 1 loop each)\n"
     ]
    }
   ],
   "source": [
    "%%timeit\n",
    "res = he.solve()"
   ]
  },
  {
   "cell_type": "markdown",
   "metadata": {},
   "source": [
    "### cimport and cdef"
   ]
  },
  {
   "cell_type": "code",
   "execution_count": 185,
   "metadata": {
    "collapsed": true
   },
   "outputs": [],
   "source": [
    "%%cython\n",
    "import numpy as np\n",
    "\n",
    "cimport cython\n",
    "cimport numpy as np\n",
    "\n",
    "@cython.nonecheck(False)\n",
    "@cython.boundscheck(False)\n",
    "@cython.overflowcheck(False)\n",
    "cdef np.ndarray[double, ndim=1] sweep_numpy(np.ndarray[double, ndim=1] a,\n",
    "                np.ndarray[double, ndim=1] b,\n",
    "                np.ndarray[double, ndim=1] c,\n",
    "                np.ndarray[double, ndim=1] f):\n",
    "        cdef np.ndarray alpha = np.zeros_like(a)\n",
    "        alpha[0] = -c[0] / b[0]\n",
    "        cdef np.ndarray[double, ndim=1] beta = np.zeros_like(f, dtype=np.float)\n",
    "        beta[0] = f[0] / b[0]\n",
    "        cdef np.ndarray[double, ndim=1] x = np.zeros((len(f)), dtype=np.float)\n",
    "        for i in range(1, f.shape[0] - 1):\n",
    "            m = (b[i] + a[i - 1] * alpha[i - 1])\n",
    "            alpha[i] = -c[i] / m\n",
    "            beta[i] = (f[i] - a[i - 1] * beta[i - 1]) / m\n",
    "        beta[f.shape[0]-1] = (f[-1] - a[-1] * beta[-1]) / (b[-1] + a[-1] * alpha[-1])\n",
    "        x[-1] = beta[-1]\n",
    "\n",
    "        for i in reversed(range(f.shape[0] - 1)):\n",
    "            x[i] = alpha[i] * x[i + 1] + beta[i]\n",
    "\n",
    "        return x\n",
    "\n",
    "@cython.nonecheck(False)\n",
    "@cython.boundscheck(False)\n",
    "@cython.overflowcheck(False)\n",
    "cdef np.ndarray[double, ndim=2] solve_numpy(int N, int T, double h, double tau, double koeff_a, np.ndarray _u0, _f):\n",
    "        N = N + 1\n",
    "        cdef np.ndarray[double, ndim=2] grid = np.zeros((T, N), dtype=np.float)\n",
    "        grid[0] = _u0\n",
    "        cdef np.ndarray a = np.zeros((N,), dtype=np.float)\n",
    "        a[:] = -koeff_a / h ** 2\n",
    "        cdef np.ndarray[double, ndim=1] b = np.zeros((N, ), dtype=np.float)\n",
    "        b[:] = 1.0 / tau + 2.0 * koeff_a / h ** 2.0\n",
    "        cdef np.ndarray f = np.zeros((N, ))\n",
    "        for t in range(1, T):\n",
    "            for x in range(N):\n",
    "                f[x] = grid[-1][x] / tau + _f(t * tau, x * h)\n",
    "            grid[t] = sweep_numpy(a, b, a, f)\n",
    "        return grid\n",
    "\n",
    "@cython.nonecheck(False)\n",
    "def init_params(\n",
    "    double x0=0.0,\n",
    "    double xN=np.pi,\n",
    "    u0=np.sin,\n",
    "    f=lambda t, x: np.cos(t / (x + 0.01)),\n",
    "    double a=1.0,\n",
    "    int N=1000,\n",
    "    _h=None,\n",
    "    int T=1000,\n",
    "    _tau=None):\n",
    "    cdef double h = _h if _h else (xN - x0) / float(N)\n",
    "    # Feel bounds\n",
    "    cdef np.ndarray[double, ndim=1] _u0 = np.array(list(map(u0, map(lambda i: i * h, range(N + 1)))))\n",
    "    cdef double tau = h * h / 2\n",
    "    return N, T, h, tau, a, _u0, f\n"
   ]
  },
  {
   "cell_type": "code",
   "execution_count": 183,
   "metadata": {
    "collapsed": true
   },
   "outputs": [],
   "source": [
    "N, T, h, tau, a, _u0, f = init_params()"
   ]
  },
  {
   "cell_type": "code",
   "execution_count": 184,
   "metadata": {
    "collapsed": false
   },
   "outputs": [
    {
     "name": "stdout",
     "output_type": "stream",
     "text": [
      "4.26 s ± 5.88 ms per loop (mean ± std. dev. of 7 runs, 1 loop each)\n"
     ]
    }
   ],
   "source": [
    "%%timeit\n",
    "solve_numpy(N, T, h, tau, a, _u0, f)"
   ]
  },
  {
   "cell_type": "markdown",
   "metadata": {},
   "source": [
    "### Когда же все таки cpython поможет?"
   ]
  },
  {
   "cell_type": "code",
   "execution_count": 8,
   "metadata": {
    "collapsed": true
   },
   "outputs": [],
   "source": [
    "def recip_square(i):\n",
    "    return 1./ i**2\n",
    "\n",
    "def approx_pi(n=10000000):\n",
    "    val = 0.\n",
    "    for k in range(1, n+1):\n",
    "        val += recip_square(k)\n",
    "    return (6 * val)**.5"
   ]
  },
  {
   "cell_type": "code",
   "execution_count": 9,
   "metadata": {
    "collapsed": false
   },
   "outputs": [
    {
     "name": "stdout",
     "output_type": "stream",
     "text": [
      "3.82 s ± 1.81 ms per loop (mean ± std. dev. of 7 runs, 1 loop each)\n"
     ]
    }
   ],
   "source": [
    "%%timeit\n",
    "res = approx_pi()"
   ]
  },
  {
   "cell_type": "markdown",
   "metadata": {},
   "source": [
    "### use cpython's power"
   ]
  },
  {
   "cell_type": "code",
   "execution_count": 10,
   "metadata": {
    "collapsed": true
   },
   "outputs": [],
   "source": [
    "%%cython\n",
    "cimport cython\n",
    "\n",
    "@cython.boundscheck(False)\n",
    "@cython.overflowcheck(False)\n",
    "@cython.profile(False)\n",
    "cdef inline double recip_square(int i):\n",
    "    return 1.0 / (i * i + 1)\n",
    "\n",
    "def approx_pi(int n=10000000):\n",
    "    cdef double val = 0.\n",
    "    cdef int k\n",
    "    for k in range(1, n+1):\n",
    "        val += recip_square(k)\n",
    "    return (6 * val) ** 0.5"
   ]
  },
  {
   "cell_type": "code",
   "execution_count": 11,
   "metadata": {
    "collapsed": false
   },
   "outputs": [
    {
     "name": "stdout",
     "output_type": "stream",
     "text": [
      "79.8 ms ± 22.5 µs per loop (mean ± std. dev. of 7 runs, 10 loops each)\n"
     ]
    }
   ],
   "source": [
    "%%timeit\n",
    "res = approx_pi()"
   ]
  },
  {
   "cell_type": "markdown",
   "metadata": {},
   "source": [
    "#### Profit!\n",
    "\n",
    "* Используем, когда сложные вычисления.\n",
    "* Когда подключаем сторонние модули, то надо помнить о реализации для них cython.\n",
    "\n",
    "#### Что же есть еще?\n"
   ]
  },
  {
   "cell_type": "code",
   "execution_count": 34,
   "metadata": {
    "collapsed": false
   },
   "outputs": [
    {
     "name": "stdout",
     "output_type": "stream",
     "text": [
      "1.41user 0.01system 0:01.42elapsed 99%CPU (0avgtext+0avgdata 40232maxresident)k\r\n",
      "0inputs+0outputs (0major+8867minor)pagefaults 0swaps\r\n"
     ]
    }
   ],
   "source": [
    "!time python3 heateq.py"
   ]
  },
  {
   "cell_type": "markdown",
   "metadata": {},
   "source": [
    "real    0m1.405s\n",
    "\n",
    "user    0m1.384s\n",
    "\n",
    "sys     0m0.020s"
   ]
  },
  {
   "cell_type": "markdown",
   "metadata": {},
   "source": [
    "Чтобы этот пример сработал, необходимо установить pypy3-v5.9.0-linux64 (или для другой платформы соответственно): https://pypy.org/download.html"
   ]
  },
  {
   "cell_type": "code",
   "execution_count": 33,
   "metadata": {
    "collapsed": false
   },
   "outputs": [
    {
     "name": "stdout",
     "output_type": "stream",
     "text": [
      "0.11user 0.02system 0:00.13elapsed 99%CPU (0avgtext+0avgdata 68076maxresident)k\r\n",
      "0inputs+0outputs (0major+7911minor)pagefaults 0swaps\r\n"
     ]
    }
   ],
   "source": [
    "!time pypy3-v5.9.0-linux64/bin/pypy3 heateq.py"
   ]
  },
  {
   "cell_type": "markdown",
   "metadata": {},
   "source": [
    "real    <b>0m0.132s</b>\n",
    "\n",
    "user    0m0.112s\n",
    "\n",
    "sys     0m0.016s\n",
    "\n",
    "vs <b>~1.405s! Profit!</b>"
   ]
  },
  {
   "cell_type": "markdown",
   "metadata": {},
   "source": [
    "numba - как сделать свою функцию для numpy"
   ]
  },
  {
   "cell_type": "markdown",
   "metadata": {},
   "source": [
    "# C modules"
   ]
  },
  {
   "cell_type": "markdown",
   "metadata": {},
   "source": [
    "### CDLL"
   ]
  },
  {
   "cell_type": "code",
   "execution_count": 58,
   "metadata": {
    "collapsed": true
   },
   "outputs": [],
   "source": [
    "!gcc -shared -Wl,-soname,adder -o adder/adder.so -fPIC adder/add.c"
   ]
  },
  {
   "cell_type": "code",
   "execution_count": 59,
   "metadata": {
    "collapsed": false
   },
   "outputs": [
    {
     "name": "stdout",
     "output_type": "stream",
     "text": [
      "add.c  adder.so\r\n"
     ]
    }
   ],
   "source": [
    "!ls adder"
   ]
  },
  {
   "cell_type": "code",
   "execution_count": 60,
   "metadata": {
    "collapsed": false
   },
   "outputs": [
    {
     "name": "stdout",
     "output_type": "stream",
     "text": [
      "Сумма 4 и 5 = 9\n",
      "Сумма 5.5 и 4.1 = 9.600000381469727\n"
     ]
    }
   ],
   "source": [
    "from ctypes import *\n",
    "\n",
    "# Загружаем библиотеку\n",
    "adder = CDLL('adder/adder.so')\n",
    "\n",
    "# Находим сумму целых чисел\n",
    "res_int = adder.add_int(4,5)\n",
    "print(\"Сумма 4 и 5 = \" + str(res_int))\n",
    "\n",
    "# Находим сумму действительных чисел\n",
    "a = c_float(5.5)\n",
    "b = c_float(4.1)\n",
    "\n",
    "add_float = adder.add_float\n",
    "add_float.restype = c_float\n",
    "print(\"Сумма 5.5 и 4.1 = \" + str(add_float(a, b)))"
   ]
  },
  {
   "cell_type": "markdown",
   "metadata": {},
   "source": [
    "### Python.h"
   ]
  },
  {
   "cell_type": "code",
   "execution_count": 45,
   "metadata": {
    "collapsed": false
   },
   "outputs": [
    {
     "name": "stdout",
     "output_type": "stream",
     "text": [
      "running install\n",
      "running build\n",
      "running build_ext\n",
      "building 'helloworld_module' extension\n",
      "creating build\n",
      "creating build/temp.linux-x86_64-3.4\n",
      "creating build/temp.linux-x86_64-3.4/helloworld\n",
      "x86_64-linux-gnu-gcc -pthread -DNDEBUG -g -fwrapv -O2 -Wall -Wstrict-prototypes -g -fstack-protector --param=ssp-buffer-size=4 -Wformat -Werror=format-security -D_FORTIFY_SOURCE=2 -fPIC -I/usr/include/python3.4m -c helloworld/helloworld.c -o build/temp.linux-x86_64-3.4/helloworld/helloworld.o\n",
      "creating build/lib.linux-x86_64-3.4\n",
      "x86_64-linux-gnu-gcc -pthread -shared -Wl,-O1 -Wl,-Bsymbolic-functions -Wl,-Bsymbolic-functions -Wl,-z,relro -Wl,-Bsymbolic-functions -Wl,-z,relro -g -fstack-protector --param=ssp-buffer-size=4 -Wformat -Werror=format-security -D_FORTIFY_SOURCE=2 build/temp.linux-x86_64-3.4/helloworld/helloworld.o -o build/lib.linux-x86_64-3.4/helloworld_module.cpython-34m.so\n",
      "running install_lib\n",
      "copying build/lib.linux-x86_64-3.4/helloworld_module.cpython-34m.so -> /usr/local/lib/python3.4/dist-packages\n",
      "running install_egg_info\n",
      "Removing /usr/local/lib/python3.4/dist-packages/helloworld_module-0.1.0.egg-info\n",
      "Writing /usr/local/lib/python3.4/dist-packages/helloworld_module-0.1.0.egg-info\n"
     ]
    }
   ],
   "source": [
    "!sudo python3 helloworld/setup.py install"
   ]
  },
  {
   "cell_type": "code",
   "execution_count": null,
   "metadata": {
    "collapsed": false
   },
   "outputs": [],
   "source": [
    "from helloworld_module import hello"
   ]
  },
  {
   "cell_type": "code",
   "execution_count": 1,
   "metadata": {
    "collapsed": false
   },
   "outputs": [
    {
     "name": "stdout",
     "output_type": "stream",
     "text": [
      "Hello, world!\n",
      "\n"
     ]
    }
   ],
   "source": [
    "print(\"Hello, world!\\n\")"
   ]
  },
  {
   "cell_type": "markdown",
   "metadata": {},
   "source": [
    "Еще хороший пример запуска: https://github.com/mipt-proglang-2015/proglangs_ivchenko"
   ]
  }
 ],
 "metadata": {
  "kernelspec": {
   "display_name": "Python 3",
   "language": "python",
   "name": "python3"
  },
  "language_info": {
   "codemirror_mode": {
    "name": "ipython",
    "version": 3
   },
   "file_extension": ".py",
   "mimetype": "text/x-python",
   "name": "python",
   "nbconvert_exporter": "python",
   "pygments_lexer": "ipython3",
   "version": "3.6.0"
  }
 },
 "nbformat": 4,
 "nbformat_minor": 2
}

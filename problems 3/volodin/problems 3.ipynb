{
 "cells": [
  {
   "cell_type": "markdown",
   "metadata": {},
   "source": [
    "# Задание 3\n",
    "### Часть 1. Magic functions"
   ]
  },
  {
   "cell_type": "markdown",
   "metadata": {},
   "source": [
    "#### CounterGetter (0.1 балл)\n",
    "Реализуйте класс CounterGetter, который на вход принимает произвольное количество именованых аргументов и считает количество обращений к полям и методам класса во всех экземплярах."
   ]
  },
  {
   "cell_type": "code",
   "execution_count": 1,
   "metadata": {},
   "outputs": [],
   "source": [
    "class CounterGetter(object):\n",
    "\n",
    "    def __init__(self, **kwargs):\n",
    "        \n",
    "        self.__args__ = {}\n",
    "        self.__argsCount__ = {}\n",
    "        for key in kwargs:\n",
    "            self.__args__[key] = kwargs[key]\n",
    "            self.__argsCount__[key] = 1\n",
    "        \n",
    "    #Для просмотра результатов\n",
    "    def printCounts(self):\n",
    "        \n",
    "        for x in self.__args__:\n",
    "            print(\"Var: {0}, Count: {2}, Value: {1}\".format(x, self.__args__[x], self.__argsCount__[x]))\n",
    "            \n",
    "    def __setattr__(self, name, value):\n",
    "        #print(name, value)\n",
    "        if name in [\"__args__\", \"__argsCount__\"]:\n",
    "            super.__setattr__(self, name, value)\n",
    "            return\n",
    "        if name in self.__args__:\n",
    "            self.__args__[name] = value\n",
    "            self.__argsCount__[name] += 1\n",
    "        else:\n",
    "            #На случай полей, переданных не через конструктор\n",
    "            self.__args__[name] = value\n",
    "            self.__argsCount__[name] = 1\n",
    "        \n",
    "        #super.__setattr__(self, name, value)\n",
    "        \n",
    "    def __getattr__(self, name):\n",
    "        \n",
    "        if name in self.__args__:\n",
    "            self.__argsCount__[name] += 1\n",
    "            return self.__args__[name]"
   ]
  },
  {
   "cell_type": "code",
   "execution_count": 2,
   "metadata": {},
   "outputs": [],
   "source": [
    "class SimpleC():\n",
    "    \n",
    "    def p(self):\n",
    "        print(\"Hello World!\")"
   ]
  },
  {
   "cell_type": "code",
   "execution_count": 3,
   "metadata": {
    "scrolled": true
   },
   "outputs": [
    {
     "name": "stdout",
     "output_type": "stream",
     "text": [
      "Var: k, Count: 1, Value: 1\n",
      "Var: arg, Count: 1, Value: 5\n",
      "Var: s, Count: 1, Value: 7\n",
      "Var: hw, Count: 1, Value: <__main__.SimpleC object at 0x104c99a20>\n"
     ]
    }
   ],
   "source": [
    "a = CounterGetter(k = 1, arg = 5, s = 7, hw = SimpleC())\n",
    "\n",
    "a.printCounts()"
   ]
  },
  {
   "cell_type": "code",
   "execution_count": 4,
   "metadata": {},
   "outputs": [
    {
     "name": "stdout",
     "output_type": "stream",
     "text": [
      "Helo World!\n",
      "Helo World!\n"
     ]
    }
   ],
   "source": [
    "a.k = 5\n",
    "a.w = 42\n",
    "a.hw.p()\n",
    "a.hw.p()\n",
    "a.hw.test = 42"
   ]
  },
  {
   "cell_type": "code",
   "execution_count": 5,
   "metadata": {},
   "outputs": [
    {
     "name": "stdout",
     "output_type": "stream",
     "text": [
      "Var: k, Count: 2, Value: 5\n",
      "Var: arg, Count: 1, Value: 5\n",
      "Var: s, Count: 1, Value: 7\n",
      "Var: hw, Count: 4, Value: <__main__.SimpleC object at 0x104c99a20>\n",
      "Var: w, Count: 1, Value: 42\n"
     ]
    }
   ],
   "source": [
    "a.printCounts()"
   ]
  },
  {
   "cell_type": "markdown",
   "metadata": {},
   "source": [
    "#### Vector (0.4 балла)"
   ]
  },
  {
   "cell_type": "markdown",
   "metadata": {},
   "source": [
    "Реализуйте класс вектор, который должен обладать следующими свойствами:\n",
    "* Над экземплярами выполняются арифметические операции (+-\\*/). Операции могут выполняться как с числами, так и с векторами. Если второй операнд вектор, то верните их скалярное произведение, если число, выполните поэлементное действие.\n",
    "* Реализуйте доступ к элементам вектора по индексам:\n",
    "\n",
    "<code>vec = Vector(1, 2, 3)\n",
    "\n",
    "vec[0]</code>\n",
    "* Реализуйте умножение вектора на матрицу (Матрица задается двумерным списком).\n",
    "* Поддерживайте методы push_back, pop_back, insert.\n",
    "* Реализуйте поддержку функции len\n",
    "\n",
    "P. S. Запрещается использовать numpy и другие библиотеки по работе с векторами. Рекомендуется представлять элементы вектора как список."
   ]
  },
  {
   "cell_type": "code",
   "execution_count": 6,
   "metadata": {},
   "outputs": [],
   "source": [
    "import math\n",
    "import sys\n",
    "\n",
    "class Vector(object):\n",
    "    def __init__(self, *args):\n",
    "        self.elems = []\n",
    "        for x in args:\n",
    "            self.elems.append(x)\n",
    "        \n",
    "    def __pos__(self):\n",
    "        return Vector(*self.elems)\n",
    "    \n",
    "    def __neg__(self):\n",
    "        elems = []\n",
    "        for i in range(len(self.elems)):\n",
    "            elems.append(-self.elems[i])\n",
    "        return Vector(*elems)\n",
    "    \n",
    "    def __add__(self, other):\n",
    "        if not isinstance(other, Vector):\n",
    "            sys.stderr.write('Error!')\n",
    "            return\n",
    "            \n",
    "        if len(self.elems) != len(other.elems):\n",
    "            sys.stderr.write('Error!')\n",
    "            return\n",
    "        \n",
    "        elems = []\n",
    "        for i in range(len(self.elems)):\n",
    "            elems.append(self.elems[i] + other.elems[i])\n",
    "            \n",
    "        return Vector(*elems)\n",
    "    \n",
    "    def __sub__(self, other):\n",
    "        return self + (-other)\n",
    "    \n",
    "    def __mul__(self, other):\n",
    "        if type(other) == int:\n",
    "            elems = []\n",
    "            for i in range(len(self.elems)):\n",
    "                elems.append(self.elems[i] * other)\n",
    "                \n",
    "            return Vector(*elems)\n",
    "        \n",
    "        if not isinstance(other, Vector):\n",
    "            sys.stderr.write('Error!')\n",
    "            return\n",
    "        \n",
    "        res = 0\n",
    "        for i in range(len(self.elems)):\n",
    "            res += self.elems[i] * other.elems[i]\n",
    "            \n",
    "        return res\n",
    "    \n",
    "    #Вектора ж не делятся, поэтому будем возвращать поэлементное деление.\n",
    "    def __floordiv__(self, other):\n",
    "        if type(other) == int or type(other) == float:\n",
    "            elems = []\n",
    "            for i in range(len(self.elems)):\n",
    "                elems.append(self.elems[i] // other)\n",
    "                \n",
    "            return Vector(*elems)\n",
    "        \n",
    "        if not isinstance(other, Vector):\n",
    "            sys.stderr.write('Error!')\n",
    "            return\n",
    "        \n",
    "        elems = []\n",
    "        for i in range(len(self.elems)):\n",
    "            elems.append(self.elems[i] // other.elems[i])\n",
    "            \n",
    "        return Vector(*elems)\n",
    "\n",
    "    #Вектора ж не делятся, поэтому будем возвращать поэлементное деление.\n",
    "    def __truediv__(self, other):\n",
    "        if type(other) == int or type(other) == float:\n",
    "            elems = []\n",
    "            for i in range(len(self.elems)):\n",
    "                elems.append(self.elems[i] / other)\n",
    "                \n",
    "            return Vector(*elems)\n",
    "        \n",
    "        if not isinstance(other, Vector):\n",
    "            sys.stderr.write('Error!')\n",
    "            return\n",
    "        \n",
    "        elems = []\n",
    "        for i in range(len(self.elems)):\n",
    "            elems.append(self.elems[i] / other.elems[i])\n",
    "            \n",
    "        return Vector(*elems)\n",
    "    \n",
    "    #Вектора ж не делятся, поэтому будем возвращать поэлементное деление.\n",
    "    def __mod__(self, other):\n",
    "        if type(other) == int or type(other) == float:\n",
    "            elems = []\n",
    "            for i in range(len(self.elems)):\n",
    "                elems.append(self.elems[i] % other)\n",
    "                \n",
    "            return Vector(*elems)\n",
    "        \n",
    "        if not isinstance(other, Vector):\n",
    "            sys.stderr.write('Error!')\n",
    "            return\n",
    "        \n",
    "        elems = []\n",
    "        for i in range(len(self.elems)):\n",
    "            elems.append(self.elems[i] % other.elems[i])\n",
    "            \n",
    "        return Vector(*elems)\n",
    "    \n",
    "    def __len__(self):\n",
    "        return len(self.elems)\n",
    "\n",
    "    def __getitem__(self, key):\n",
    "        return self.elems[key]\n",
    "    \n",
    "    def __setitem__(self, key, value):\n",
    "        self.elems[key] = value\n",
    "        \n",
    "    def pushback(self, value):\n",
    "        self.elems.append(value)\n",
    "        \n",
    "    def push_back(self, value):\n",
    "        self.elems.append(value)\n",
    "    \n",
    "    def pop_back(self):\n",
    "        e = self.elems[-1]\n",
    "        self.elems = self.elems[:-1]\n",
    "        return e\n",
    "    \n",
    "    def insert(self, key, value):\n",
    "        self.__setitem__(key, value)\n",
    "    \n",
    "    def matrix_mult(self, matrix):\n",
    "        #В данном случае считаем, что вектор транспонированный, то есть его размер 1xsize\n",
    "        #Матрицу считаем набором векторов, то есть список столбцов.\n",
    "        \n",
    "        res = []\n",
    "        for i in range(len(matrix)):\n",
    "            res.append(self * Vector(*matrix[i]))\n",
    "            \n",
    "        return res"
   ]
  },
  {
   "cell_type": "code",
   "execution_count": 7,
   "metadata": {},
   "outputs": [
    {
     "name": "stdout",
     "output_type": "stream",
     "text": [
      "a [1, 2, 3]\n",
      "a [-1, -2, -3]\n",
      "a [-1, -2, -3]\n",
      "b [1, 2, 3]\n"
     ]
    }
   ],
   "source": [
    "a = Vector(1, 2, 3)\n",
    "\n",
    "print('a', a.elems)\n",
    "a = -a\n",
    "print('a', a.elems)\n",
    "b = -a\n",
    "print('a', a.elems)\n",
    "print('b', b.elems)"
   ]
  },
  {
   "cell_type": "code",
   "execution_count": 8,
   "metadata": {},
   "outputs": [
    {
     "name": "stdout",
     "output_type": "stream",
     "text": [
      "a + b:\t [6, 8]\n",
      "a - b:\t [2, 2]\n",
      "a * b:\t 23\n",
      "a / b:\t [2.0, 1.6666666666666667]\n",
      "a // b:\t [2, 1]\n",
      "a % b:\t [0, 2]\n",
      "a * k:\t [8, 10]\n",
      "a / k:\t [2.0, 2.5]\n",
      "a // k:\t [2, 2]\n",
      "a % k:\t [0, 1]\n"
     ]
    }
   ],
   "source": [
    "a = Vector(4, 5)\n",
    "b = Vector(2, 3)\n",
    "\n",
    "c = a + b\n",
    "print('a + b:\\t', c.elems)\n",
    "c = a - b\n",
    "print('a - b:\\t', c.elems)\n",
    "c = a * b\n",
    "print('a * b:\\t', c)\n",
    "c = a / b\n",
    "print('a / b:\\t', c.elems)\n",
    "c = a // b\n",
    "print('a // b:\\t', c.elems)\n",
    "c = a % b\n",
    "print('a % b:\\t', c.elems)\n",
    "\n",
    "k = 2\n",
    "c = a * k\n",
    "print('a * k:\\t', c.elems)\n",
    "c = a / k\n",
    "print('a / k:\\t', c.elems)\n",
    "c = a // k\n",
    "print('a // k:\\t', c.elems)\n",
    "c = a % k\n",
    "print('a % k:\\t', c.elems)"
   ]
  },
  {
   "cell_type": "code",
   "execution_count": 9,
   "metadata": {},
   "outputs": [
    {
     "name": "stdout",
     "output_type": "stream",
     "text": [
      "2\n",
      "4\n",
      "[4, 42]\n",
      "[4, 42, 5]\n",
      "5\n",
      "[4, 42]\n"
     ]
    }
   ],
   "source": [
    "print(len(a))\n",
    "print(a[0])\n",
    "a[1] = 42\n",
    "print(a.elems)\n",
    "\n",
    "a.push_back(5)\n",
    "print(a.elems)\n",
    "print(a.pop_back())\n",
    "print(a.elems)"
   ]
  },
  {
   "cell_type": "code",
   "execution_count": 10,
   "metadata": {},
   "outputs": [
    {
     "name": "stdout",
     "output_type": "stream",
     "text": [
      "[14, 32]\n"
     ]
    }
   ],
   "source": [
    "a = Vector(4, 5)\n",
    "matrix = [[1, 2], [3, 4]]\n",
    "print(a.matrix_mult(matrix))"
   ]
  },
  {
   "cell_type": "markdown",
   "metadata": {},
   "source": [
    "#### Table (0.5 баллов)"
   ]
  },
  {
   "cell_type": "markdown",
   "metadata": {},
   "source": [
    "Реализуйте класс для работы с таблицами. Класс должен обладать следующей функциональностью:\n",
    "\n",
    "* Таблица может задаваться как двумерным списком, так и читаться из файла. Если читается из файла, то должен быть указан разделитель.\n",
    "\n",
    "* Обладать возможностью задания названия колонок (по номеру, если не задано). Если читается из файла и задан параметр наличия именованных колонок, то первая строчка файла отвечает за названия колонок.\n",
    "\n",
    "* Реализуйте доступ к колонкам по названю и по индекс:\n",
    "\n",
    "<code>t = Table()\n",
    "\n",
    "t[\"index\"]</code>\n",
    "\n",
    "* Реализуйте функции head и tail, которые показывают заданное число строк с начала и с конца соответственно.\n",
    "* Реадизуйте методы unique и count, которые выводят все уникальные элементы для таблицы или для заданного столбца:\n",
    "\n",
    "<code>\n",
    "\n",
    "t[\"sex\"].unique()\n",
    "\n",
    "t.unique()\n",
    "\n",
    "</code>"
   ]
  },
  {
   "cell_type": "code",
   "execution_count": 11,
   "metadata": {},
   "outputs": [],
   "source": [
    "class Table():\n",
    "    \n",
    "    class Column():\n",
    "        \n",
    "        def __init__(self, c):\n",
    "            \n",
    "            self.__data__ = c\n",
    "            \n",
    "        def __getitem__(self, key):\n",
    "            \n",
    "            if type(key) == int:\n",
    "                return self.__data__[key]\n",
    "            \n",
    "        def getList(self):\n",
    "            return self.__data__\n",
    "        \n",
    "        def unique(self):\n",
    "            \n",
    "            unique = []\n",
    "            for x in self.__data__:\n",
    "                if x not in unique:\n",
    "                    unique.append(x)\n",
    "            return unique\n",
    "        \n",
    "        def count(self):\n",
    "            \n",
    "            return len(self.unique())\n",
    "    \n",
    "    def __init__(self, data=None, isNames=False, isReadFromFile=False, fileName=\"\", separator=\";\"):\n",
    "        \n",
    "        self.__table__ = []\n",
    "        self.__names__ = None\n",
    "        \n",
    "        def constructTable(data):\n",
    "            \n",
    "            if isNames:\n",
    "                \n",
    "                self.__names__, w = data[0], len(data[0])\n",
    "                self.__table__, w = self.__prepare_data__(data[1:], w)\n",
    "                \n",
    "                while w > len(self.__names__):\n",
    "                    self.__names__.append(\"\")\n",
    "                    \n",
    "            else:\n",
    "                self.__table__, _ = self.__prepare_data__(data)\n",
    "        \n",
    "        if isReadFromFile:\n",
    "            \n",
    "            fileData = open(fileName)\n",
    "            \n",
    "            data = []\n",
    "            for string in fileData:\n",
    "                data.append(string[:-1].split(separator))\n",
    "                \n",
    "            constructTable(data)\n",
    "            \n",
    "            fileData.close()\n",
    "            \n",
    "            return\n",
    "                \n",
    "\n",
    "        if data is not None:\n",
    "            \n",
    "            constructTable(data)\n",
    "                \n",
    "            return\n",
    "            \n",
    "    def printTable(self):\n",
    "        self.__print_some__strings__(0, len(self.__table__))\n",
    "            \n",
    "    def head(self, count):\n",
    "        \n",
    "        if count > len(self.__table__):\n",
    "            count = len(self.__table__)\n",
    "        \n",
    "        self.__print_some__strings__(0, count)\n",
    "            \n",
    "    def tail(self, count):\n",
    "        \n",
    "        if count > len(self.__table__):\n",
    "            count = len(self.__table__)\n",
    "        \n",
    "        self.__print_some__strings__(len(self.__table__) - count, len(self.__table__))\n",
    "        \n",
    "    def __print_some__strings__(self, s, f):\n",
    "        \n",
    "        def printList(l):\n",
    "            s = '['\n",
    "            for y in l:\n",
    "                s += '[' + str(y) + ']'\n",
    "            s += ']'\n",
    "            print(s)\n",
    "        \n",
    "        if self.__names__ is not None:\n",
    "            printList(self.__names__)\n",
    "            \n",
    "        for x in self.__table__[s:f]:\n",
    "            printList(x)  \n",
    "        \n",
    "            \n",
    "    def __prepare_data__(self, data, w=0):\n",
    "        width = max(len(max(data)), w)\n",
    "        \n",
    "        for x in range(len(data)):\n",
    "            for y in range(len(data[x])):\n",
    "                data[x][y] = str(data[x][y])\n",
    "            while width > len(data[x]):\n",
    "                data[x].append(\"\")\n",
    "                \n",
    "        return data, width\n",
    "    \n",
    "    def unique(self):\n",
    "        \n",
    "        unique = []\n",
    "        for x in self.__table__:\n",
    "            unq = Table.Column(x)\n",
    "            unq = unq.unique()\n",
    "            for u in unq:\n",
    "                if u not in unique:\n",
    "                    unique.append(u)\n",
    "                    \n",
    "        return unique\n",
    "    \n",
    "    def count(self):\n",
    "        \n",
    "        return len(self.unique())\n",
    "    \n",
    "    def __getitem__(self, key):\n",
    "        \n",
    "        if type(key) == str:\n",
    "            try:\n",
    "                if self.__names__ is not None:\n",
    "                    key = self.__names__.index(key)\n",
    "                else:\n",
    "                    return Table.Column([])\n",
    "            except:\n",
    "                return Table.Column([])\n",
    "        \n",
    "        if type(key) == int:\n",
    "            data = []\n",
    "            for string in self.__table__:\n",
    "                data.append(string[key])\n",
    "            return Table.Column(data)\n",
    "    \n",
    "    def __setitem__(self, key, value):\n",
    "        self.elems[key] = value"
   ]
  },
  {
   "cell_type": "code",
   "execution_count": 12,
   "metadata": {},
   "outputs": [
    {
     "name": "stdout",
     "output_type": "stream",
     "text": [
      "[[2][3][]]\n",
      "[[4][5][6]]\n"
     ]
    }
   ],
   "source": [
    "a = Table(data=[[2, 3], [4, 5, 6]])\n",
    "a.printTable()"
   ]
  },
  {
   "cell_type": "code",
   "execution_count": 13,
   "metadata": {},
   "outputs": [
    {
     "name": "stdout",
     "output_type": "stream",
     "text": [
      "[[Id][Name][Sex][Age]]\n",
      "[[0][Pavel][][]]\n",
      "[[1][Vasya][m][]]\n",
      "[[2][Petya][m][2]]\n"
     ]
    }
   ],
   "source": [
    "b = Table(isNames=True, isReadFromFile=True, fileName=\"somedata.txt\")\n",
    "b.printTable()"
   ]
  },
  {
   "cell_type": "code",
   "execution_count": 14,
   "metadata": {},
   "outputs": [
    {
     "name": "stdout",
     "output_type": "stream",
     "text": [
      "['Pavel', 'Vasya', 'Petya']\n",
      "['', 'm', 'm']\n",
      "['Pavel', 'Vasya', 'Petya'] 3\n",
      "['', 'm'] 2\n"
     ]
    }
   ],
   "source": [
    "print(b[\"Name\"].getList())\n",
    "print(b[2].getList())\n",
    "\n",
    "print(b[\"Name\"].unique(), b[\"Name\"].count())\n",
    "print(b[2].unique(), b[2].count())"
   ]
  },
  {
   "cell_type": "code",
   "execution_count": 15,
   "metadata": {},
   "outputs": [
    {
     "name": "stdout",
     "output_type": "stream",
     "text": [
      "[[Id][Name][Sex][Age]]\n",
      "[[0][Pavel][][]]\n",
      "[[1][Vasya][m][]]\n"
     ]
    }
   ],
   "source": [
    "b.head(2)"
   ]
  },
  {
   "cell_type": "code",
   "execution_count": 16,
   "metadata": {},
   "outputs": [
    {
     "name": "stdout",
     "output_type": "stream",
     "text": [
      "[[Id][Name][Sex][Age]]\n",
      "[[1][Vasya][m][]]\n",
      "[[2][Petya][m][2]]\n"
     ]
    }
   ],
   "source": [
    "b.tail(2)"
   ]
  },
  {
   "cell_type": "code",
   "execution_count": 17,
   "metadata": {},
   "outputs": [
    {
     "name": "stdout",
     "output_type": "stream",
     "text": [
      "['0', 'Pavel', '', '1', 'Vasya', 'm', '2', 'Petya'] 8\n"
     ]
    }
   ],
   "source": [
    "print(b.unique(), b.count())"
   ]
  },
  {
   "cell_type": "markdown",
   "metadata": {},
   "source": [
    "## Часть 2. Вглубь sklearn (дополнительное задание)"
   ]
  },
  {
   "cell_type": "markdown",
   "metadata": {},
   "source": [
    "#### BinaryBoosting (0.3 балла)\n",
    "Реализуйте двухклассовый бустинг с логистической функцией потерь. Вам предлагается ознакомится со структурой классов в sklearn.\n",
    "\n",
    "Теория для выполнения дз:\n",
    "* Hastie, The Elements of Statistical Learning, https://goo.gl/k3wfEU, 10 Boosting and Additive Trees 337\n",
    "* Соколов, Семинары по композиционным методам, https://goo.gl/sn8RyJ, http://goo.gl/ajNTQy\n",
    "\n",
    "P. S. Кому интересно, полное задание части 2 лежит <a href=\"https://github.com/ml-mipt/ml-mipt-part2/blob/master/2016/home_works/hw02_boosting_xgb/task2.ipynb\">тут</a>. Обязательной частью является только то, что приведено здесь."
   ]
  },
  {
   "cell_type": "code",
   "execution_count": 18,
   "metadata": {},
   "outputs": [
    {
     "ename": "SyntaxError",
     "evalue": "invalid syntax (<ipython-input-18-97442759de50>, line 22)",
     "output_type": "error",
     "traceback": [
      "\u001b[0;36m  File \u001b[0;32m\"<ipython-input-18-97442759de50>\"\u001b[0;36m, line \u001b[0;32m22\u001b[0m\n\u001b[0;31m    estimator = <your code here>\u001b[0m\n\u001b[0m                ^\u001b[0m\n\u001b[0;31mSyntaxError\u001b[0m\u001b[0;31m:\u001b[0m invalid syntax\n"
     ]
    }
   ],
   "source": [
    "from sklearn.tree import DecisionTreeRegressor\n",
    "from sklearn.cross_validation import cross_val_score\n",
    "from sklearn.base import ClassifierMixin, BaseEstimator\n",
    "from sklearn.ensemble import GradientBoostingClassifier\n",
    "\n",
    "\n",
    "class BinaryBoostingClassifier(BaseEstimator, ClassifierMixin):\n",
    "    def __init__(self, n_estimators, lr=0.1):\n",
    "        self.lr = lr   \n",
    "        self.n_estimators = n_estimators\n",
    "\n",
    "    def loss_grad(self, original_y, pred_y):\n",
    "        return # Градиент на кажом объекте\n",
    "\n",
    "    def fit(self, X, original_y):\n",
    "        # Храните базовые алгоритмы тут\n",
    "        self.estimators_ = [] \n",
    "\n",
    "        for i in range(self.n_estimators):\n",
    "            grad = self.loss_grad(original_y, self._predict(X))\n",
    "            # Настройте базовый алгоритм на градиент\n",
    "            estimator = <your code here>\n",
    "            self.estimators_.append(estimator)\n",
    "\n",
    "        self.out_ = self.outliers(grad)\n",
    "\n",
    "        return self\n",
    "\n",
    "    def _predict(self, X):\n",
    "        y_pred = <Получите ответ композиции до применения решающего правила>\n",
    "        return y_pred\n",
    "    \n",
    "    def predict(self, X):\n",
    "        y_pred = <примените к self._predict решающее правило>\n",
    "        return y_pred\n",
    "    \n",
    "    def outliers(self, grad):\n",
    "        return # Топ-10 объектов с большим отступом"
   ]
  },
  {
   "cell_type": "markdown",
   "metadata": {},
   "source": [
    "Сравните с классификатором из sklearn на датасете:\n",
    "    https://archive.ics.uci.edu/ml/machine-learning-databases/adult/adult.data.\n",
    "\n",
    "Кросс-валидацию разрешается осуществлять только с помощью функции cross_val_score для обоих классификаторов (вашего и из библиотеки)."
   ]
  },
  {
   "cell_type": "code",
   "execution_count": null,
   "metadata": {},
   "outputs": [],
   "source": [
    "<your code here>"
   ]
  }
 ],
 "metadata": {
  "kernelspec": {
   "display_name": "Python 3",
   "language": "python",
   "name": "python3"
  },
  "language_info": {
   "codemirror_mode": {
    "name": "ipython",
    "version": 3
   },
   "file_extension": ".py",
   "mimetype": "text/x-python",
   "name": "python",
   "nbconvert_exporter": "python",
   "pygments_lexer": "ipython3",
   "version": "3.6.1"
  }
 },
 "nbformat": 4,
 "nbformat_minor": 2
}

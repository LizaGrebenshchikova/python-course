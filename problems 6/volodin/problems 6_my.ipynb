{
 "cells": [
  {
   "cell_type": "markdown",
   "metadata": {},
   "source": [
    "# Задание 6"
   ]
  },
  {
   "cell_type": "markdown",
   "metadata": {},
   "source": [
    "### Пример входных данных"
   ]
  },
  {
   "cell_type": "code",
   "execution_count": 1,
   "metadata": {},
   "outputs": [],
   "source": [
    "import pandas as pd\n",
    "clinton = pd.read_csv(\"../clinton.csv\", encoding=\"utf-8\")\n",
    "trump = pd.read_csv(\"../trump.csv\", encoding=\"utf-8\")"
   ]
  },
  {
   "cell_type": "code",
   "execution_count": 2,
   "metadata": {},
   "outputs": [
    {
     "data": {
      "text/html": [
       "<div>\n",
       "<style>\n",
       "    .dataframe thead tr:only-child th {\n",
       "        text-align: right;\n",
       "    }\n",
       "\n",
       "    .dataframe thead th {\n",
       "        text-align: left;\n",
       "    }\n",
       "\n",
       "    .dataframe tbody tr th {\n",
       "        vertical-align: top;\n",
       "    }\n",
       "</style>\n",
       "<table border=\"1\" class=\"dataframe\">\n",
       "  <thead>\n",
       "    <tr style=\"text-align: right;\">\n",
       "      <th></th>\n",
       "      <th>text</th>\n",
       "    </tr>\n",
       "  </thead>\n",
       "  <tbody>\n",
       "    <tr>\n",
       "      <th>0</th>\n",
       "      <td>Join me for a 3pm rally - tomorrow at the Mid-...</td>\n",
       "    </tr>\n",
       "    <tr>\n",
       "      <th>1</th>\n",
       "      <td>Once again, we will have a government of, by a...</td>\n",
       "    </tr>\n",
       "    <tr>\n",
       "      <th>2</th>\n",
       "      <td>On National #VoterRegistrationDay, make sure y...</td>\n",
       "    </tr>\n",
       "    <tr>\n",
       "      <th>3</th>\n",
       "      <td>Hillary Clinton's Campaign Continues To Make F...</td>\n",
       "    </tr>\n",
       "    <tr>\n",
       "      <th>4</th>\n",
       "      <td>'CNBC, Time magazine online polls say Donald T...</td>\n",
       "    </tr>\n",
       "  </tbody>\n",
       "</table>\n",
       "</div>"
      ],
      "text/plain": [
       "                                                text\n",
       "0  Join me for a 3pm rally - tomorrow at the Mid-...\n",
       "1  Once again, we will have a government of, by a...\n",
       "2  On National #VoterRegistrationDay, make sure y...\n",
       "3  Hillary Clinton's Campaign Continues To Make F...\n",
       "4  'CNBC, Time magazine online polls say Donald T..."
      ]
     },
     "execution_count": 2,
     "metadata": {},
     "output_type": "execute_result"
    }
   ],
   "source": [
    "trump.head()"
   ]
  },
  {
   "cell_type": "code",
   "execution_count": 3,
   "metadata": {},
   "outputs": [
    {
     "data": {
      "text/html": [
       "<div>\n",
       "<style>\n",
       "    .dataframe thead tr:only-child th {\n",
       "        text-align: right;\n",
       "    }\n",
       "\n",
       "    .dataframe thead th {\n",
       "        text-align: left;\n",
       "    }\n",
       "\n",
       "    .dataframe tbody tr th {\n",
       "        vertical-align: top;\n",
       "    }\n",
       "</style>\n",
       "<table border=\"1\" class=\"dataframe\">\n",
       "  <thead>\n",
       "    <tr style=\"text-align: right;\">\n",
       "      <th></th>\n",
       "      <th>text</th>\n",
       "    </tr>\n",
       "  </thead>\n",
       "  <tbody>\n",
       "    <tr>\n",
       "      <th>0</th>\n",
       "      <td>The question in this election: Who can put the...</td>\n",
       "    </tr>\n",
       "    <tr>\n",
       "      <th>1</th>\n",
       "      <td>Last night, Donald Trump said not paying taxes...</td>\n",
       "    </tr>\n",
       "    <tr>\n",
       "      <th>2</th>\n",
       "      <td>Couldn't be more proud of @HillaryClinton. Her...</td>\n",
       "    </tr>\n",
       "    <tr>\n",
       "      <th>3</th>\n",
       "      <td>If we stand together, there's nothing we can't...</td>\n",
       "    </tr>\n",
       "    <tr>\n",
       "      <th>4</th>\n",
       "      <td>Both candidates were asked about how they'd co...</td>\n",
       "    </tr>\n",
       "  </tbody>\n",
       "</table>\n",
       "</div>"
      ],
      "text/plain": [
       "                                                text\n",
       "0  The question in this election: Who can put the...\n",
       "1  Last night, Donald Trump said not paying taxes...\n",
       "2  Couldn't be more proud of @HillaryClinton. Her...\n",
       "3  If we stand together, there's nothing we can't...\n",
       "4  Both candidates were asked about how they'd co..."
      ]
     },
     "execution_count": 3,
     "metadata": {},
     "output_type": "execute_result"
    }
   ],
   "source": [
    "clinton.head()"
   ]
  },
  {
   "cell_type": "markdown",
   "metadata": {},
   "source": [
    "# Задание 6"
   ]
  },
  {
   "cell_type": "markdown",
   "metadata": {},
   "source": [
    "## Описание задания\n",
    "\n",
    "Предлагается написать генератор случайных диалогов на основе твитов Трампа (файл <i>\"trump.csv\"</i>) и Хеллори Клинтон (файл <i>\"clinton.csv\"</i>).\n",
    "\n",
    "* Каждый диалог состоит из нескольких \"ходов\" (<i>turn</i>).\n",
    "* Каждый такой <i>turn</i> представляет собой цепочку нескольких реплик разных агентов (участников диалога, их может быть больше двух).\n",
    "* Цепочка реплик представляет собой набор реплик агентов. Первое сообщение в цепочке - <i>\"исходное сообщение\"</i> на которое отвечают оставшиеся агенты (по одному сообщению за turn).\n",
    "\n",
    "Программа должна представлять отдельный пакет следующей структуры:\n",
    "<ul>\n",
    "<li>run\\_generator.py</li>\n",
    "<li>dialogsgenerator:\n",
    "<ul>\n",
    "<li>agent.py</li>\n",
    "<li>randomdialog.py</li>\n",
    "<li>\\_\\_init__.py</li>\n",
    "</ul></li>\n",
    "</ul>\n",
    "\n",
    "<b>URGENT:</b> в работе ЗАПРЕЩАЕТСЯ использовать циклы:\n",
    "<ul>\n",
    "<li>Использование 1 for (или while): max 1 балл</li>\n",
    "<li>Использование до 4 for (или while): max 0.8 баллов</li>\n",
    "<li>Использование 4+ for (или while): max 0.5 баллов</li>\n",
    "</ul>"
   ]
  },
  {
   "cell_type": "markdown",
   "metadata": {},
   "source": [
    "### Файл agent.py\n",
    "\n",
    "Описание класса агента (один класс для всех агентов, в нашем случае для Трампа и Клинтон)."
   ]
  },
  {
   "cell_type": "code",
   "execution_count": 4,
   "metadata": {},
   "outputs": [
    {
     "data": {
      "text/plain": [
       "'\\nfrom collections import Generator\\nimport random\\n\\nclass Agent(Generator):\\n    \\n    def __init__(self, kb, name):\\n        self.name = name\\n        self.kb = kb\\n\\n    def send(self, msg):\\n            \\n        ###\\n        ### Generate answer...\\n        ###\\n\\n        return random.choice(self.kb.values)[0]\\n\\n    def throw(self, typ=None, val=None, tb=None):\\n        # Оставляем как есть\\n        super().throw(typ, val, tb)\\n\\n    def __str__(self):\\n        head = 5\\n        return \"Name {0}\".format(self.name) + \"answers:\" + \"\\n\".join(list(*zip(*self.kb.values[:head])))\\n\\n    def __repr__(self):\\n        return \\'Agent({0})\\'.format(self.name)\\n'"
      ]
     },
     "execution_count": 4,
     "metadata": {},
     "output_type": "execute_result"
    }
   ],
   "source": [
    "'''\n",
    "from collections import Generator\n",
    "import random\n",
    "\n",
    "class Agent(Generator):\n",
    "    \n",
    "    def __init__(self, kb, name):\n",
    "        self.name = name\n",
    "        self.kb = kb\n",
    "\n",
    "    def send(self, msg):\n",
    "            \n",
    "        ###\n",
    "        ### Generate answer...\n",
    "        ###\n",
    "\n",
    "        return random.choice(self.kb.values)[0]\n",
    "\n",
    "    def throw(self, typ=None, val=None, tb=None):\n",
    "        # Оставляем как есть\n",
    "        super().throw(typ, val, tb)\n",
    "\n",
    "    def __str__(self):\n",
    "        head = 5\n",
    "        return \"Name {0}\".format(self.name) + \"answers:\" + \"\\n\".join(list(*zip(*self.kb.values[:head])))\n",
    "\n",
    "    def __repr__(self):\n",
    "        return 'Agent({0})'.format(self.name)\n",
    "'''"
   ]
  },
  {
   "cell_type": "markdown",
   "metadata": {},
   "source": [
    "#### Пример использования:"
   ]
  },
  {
   "cell_type": "code",
   "execution_count": 5,
   "metadata": {},
   "outputs": [
    {
     "data": {
      "text/plain": [
       "(Agent(clinton), Agent(trump))"
      ]
     },
     "execution_count": 5,
     "metadata": {},
     "output_type": "execute_result"
    }
   ],
   "source": [
    "from dialogsgenerator.agent import Agent\n",
    "\n",
    "#Как \"увидеть\" Agent в agent, который уже в package?\n",
    "\n",
    "Agent(clinton, \"clinton\"), Agent(trump, \"trump\")"
   ]
  },
  {
   "cell_type": "markdown",
   "metadata": {},
   "source": [
    "### Файл randomdialog.py\n",
    "\n",
    "Описание класса, генерирующего случайный диалог."
   ]
  },
  {
   "cell_type": "code",
   "execution_count": 6,
   "metadata": {},
   "outputs": [
    {
     "data": {
      "text/plain": [
       "'\\nimport sys\\n\\nclass RandomDialog(object):\\n    \\n    def __init__(self, agents, max_len=10):\\n        self.agents = agents\\n        self.max_len = max_len\\n\\n    def generate(self):\\n        \"\"\"\\n        Генерирует случайный диалог состоящий из 1-max_len цепочек.\\n        При генерации вызывает функцию turn.\\n        Возвращаемый объект является генератором.\\n        \"\"\"\\n        \\n        return (yield from list(map(lambda x: self.turn(), range(self.max_len))))\\n        \\n    def turn(self):\\n        \"\"\"\\n        Генерирует одну случайную цепочку следующим образом: выбирается случайный агент.\\n        Он \"говорит\" случайное сообщение (msg) из своей Agent.kb (используйте next или send(None)).\\n        (правила того, как выбирать никак не регулируются, вы можете выбирать случайный твит из Agent.kb никак не учитывая\\n        переданное msg).\\n        Это сообщение передается с помощью send (помним, что агент - это объект-генератор).\\n        Далее получаем ответ от всех агентов и возвращаем (генерируем) их (включая исходное сообщение).\\n        Возвращаемый объект является генератором.\\n        \"\"\"\\n        \\n        #Почему возвращаемый объект -- генератор, если ответы уже получены? Что генерировать?\\n        \\n        agent = random.choice(self.agents)\\n        agents = self.agents.copy()\\n        agents.remove(agent)\\n        firstMsg = agent.send(None)\\n        \\n        return [agent.name + \" : \" + firstMsg] + list(map(lambda x: agent.name + \" : \" + agent.send(firstMsg), agents))\\n\\n    def eval(self, dialog=None):\\n        \"\"\"\\n        Превращает генератор случайного далога (который возвращается в self.generate())\\n        в список списков (пример использования далее).\\n        Возвращаемый объект является списком.\\n        \"\"\"\\n        if dialog is None:\\n            dialog = self.generate()\\n        \\n        return list(map(lambda x: next(dialog), range(self.max_len)))\\n            \\n    def write(self, dialog=None, target=sys.stdout):\\n        \"\"\"\\n        Записывает результат self.eval() в соответствующий поток.\\n        \"\"\"\\n        if dialog is None:\\n            dialog = self.eval()\\n        \\n        def printInFile(msgs):\\n            target.write(\\'turn {0}\\n\\'.format(msgs[1]))\\n            target.write(\"\\n\".join(msgs[0]))\\n            target.write(\\'\\n\\n\\')\\n        \\n        list(map(printInFile, zip(dialog, range(len(dialog)))))\\n'"
      ]
     },
     "execution_count": 6,
     "metadata": {},
     "output_type": "execute_result"
    }
   ],
   "source": [
    "'''\n",
    "import sys\n",
    "\n",
    "class RandomDialog(object):\n",
    "    \n",
    "    def __init__(self, agents, max_len=10):\n",
    "        self.agents = agents\n",
    "        self.max_len = max_len\n",
    "\n",
    "    def generate(self):\n",
    "        \"\"\"\n",
    "        Генерирует случайный диалог состоящий из 1-max_len цепочек.\n",
    "        При генерации вызывает функцию turn.\n",
    "        Возвращаемый объект является генератором.\n",
    "        \"\"\"\n",
    "        \n",
    "        return (yield from list(map(lambda x: self.turn(), range(self.max_len))))\n",
    "        \n",
    "    def turn(self):\n",
    "        \"\"\"\n",
    "        Генерирует одну случайную цепочку следующим образом: выбирается случайный агент.\n",
    "        Он \"говорит\" случайное сообщение (msg) из своей Agent.kb (используйте next или send(None)).\n",
    "        (правила того, как выбирать никак не регулируются, вы можете выбирать случайный твит из Agent.kb никак не учитывая\n",
    "        переданное msg).\n",
    "        Это сообщение передается с помощью send (помним, что агент - это объект-генератор).\n",
    "        Далее получаем ответ от всех агентов и возвращаем (генерируем) их (включая исходное сообщение).\n",
    "        Возвращаемый объект является генератором.\n",
    "        \"\"\"\n",
    "        \n",
    "        #Почему возвращаемый объект -- генератор, если ответы уже получены? Что генерировать?\n",
    "        \n",
    "        agent = random.choice(self.agents)\n",
    "        agents = self.agents.copy()\n",
    "        agents.remove(agent)\n",
    "        firstMsg = agent.send(None)\n",
    "        \n",
    "        return [agent.name + \" : \" + firstMsg] + list(map(lambda x: agent.name + \" : \" + agent.send(firstMsg), agents))\n",
    "\n",
    "    def eval(self, dialog=None):\n",
    "        \"\"\"\n",
    "        Превращает генератор случайного далога (который возвращается в self.generate())\n",
    "        в список списков (пример использования далее).\n",
    "        Возвращаемый объект является списком.\n",
    "        \"\"\"\n",
    "        if dialog is None:\n",
    "            dialog = self.generate()\n",
    "        \n",
    "        return list(map(lambda x: next(dialog), range(self.max_len)))\n",
    "            \n",
    "    def write(self, dialog=None, target=sys.stdout):\n",
    "        \"\"\"\n",
    "        Записывает результат self.eval() в соответствующий поток.\n",
    "        \"\"\"\n",
    "        if dialog is None:\n",
    "            dialog = self.eval()\n",
    "        \n",
    "        def printInFile(msgs):\n",
    "            target.write('turn {0}\\n'.format(msgs[1]))\n",
    "            target.write(\"\\n\".join(msgs[0]))\n",
    "            target.write('\\n\\n')\n",
    "        \n",
    "        list(map(printInFile, zip(dialog, range(len(dialog)))))\n",
    "'''"
   ]
  },
  {
   "cell_type": "markdown",
   "metadata": {},
   "source": [
    "#### Пример использования:"
   ]
  },
  {
   "cell_type": "code",
   "execution_count": 7,
   "metadata": {},
   "outputs": [],
   "source": [
    "from dialogsgenerator.randomdialog import RandomDialog\n",
    "rd = RandomDialog([Agent(clinton, \"clinton\"), Agent(trump, \"trump\")], max_len=5)"
   ]
  },
  {
   "cell_type": "code",
   "execution_count": 8,
   "metadata": {},
   "outputs": [
    {
     "data": {
      "text/plain": [
       "<generator object RandomDialog.generate at 0x1053a4ca8>"
      ]
     },
     "execution_count": 8,
     "metadata": {},
     "output_type": "execute_result"
    }
   ],
   "source": [
    "generated = rd.generate()\n",
    "generated"
   ]
  },
  {
   "cell_type": "code",
   "execution_count": 9,
   "metadata": {},
   "outputs": [
    {
     "data": {
      "text/plain": [
       "[['trump : #Trump2016 #IACaucus Finder:\\nhttps://t.co/ANvTcZ8EpQ https://t.co/gicaoEOFCC',\n",
       "  'trump : Will be on @FallonTonight with @JimmyFallon on @NBC at 11:35pmE. Enjoy! #Trump2016 https://t.co/Z9zbKfXJqb'],\n",
       " ['clinton : So this is kind of scary... https://t.co/8t63MRC9x6 https://t.co/qaCWNBd0bq',\n",
       "  'clinton : Too many moms have to go back to work too soon after giving birth.\\nhttps://t.co/aYxAdmuSAJ'],\n",
       " ['trump : Readout of my meeting with Israeli Prime Minister Benjamin Netanyahu:\\nhttps://t.co/VHuyE65hgi https://t.co/6KDPrQxSED',\n",
       "  'trump : I agree with Marco Rubio that Ted Cruz is a liar!'],\n",
       " ['trump : New York, we will make America great again! https://t.co/KyxbaW4fsL',\n",
       "  'trump : \"@gene70: @FireFlyFury @megynkelly @realDonaldTrump And this is the bimbo that\\'s asking presidential questions? https://t.co/oU1uUGnuWb\"'],\n",
       " ['trump : Under the leadership of Obama &amp; Clinton, Americans have experienced more attacks at home than victories abroad. Time to change the playbook!',\n",
       "  'trump : Crooked Hillary Clinton lied to the FBI and to the people of our country. She is sooooo guilty. But watch, her time will come!']]"
      ]
     },
     "execution_count": 9,
     "metadata": {},
     "output_type": "execute_result"
    }
   ],
   "source": [
    "evaled = rd.eval(generated)\n",
    "evaled"
   ]
  },
  {
   "cell_type": "code",
   "execution_count": 10,
   "metadata": {},
   "outputs": [
    {
     "name": "stdout",
     "output_type": "stream",
     "text": [
      "turn 0\n",
      "trump : #Trump2016 #IACaucus Finder:\n",
      "https://t.co/ANvTcZ8EpQ https://t.co/gicaoEOFCC\n",
      "trump : Will be on @FallonTonight with @JimmyFallon on @NBC at 11:35pmE. Enjoy! #Trump2016 https://t.co/Z9zbKfXJqb\n",
      "\n",
      "turn 1\n",
      "clinton : So this is kind of scary... https://t.co/8t63MRC9x6 https://t.co/qaCWNBd0bq\n",
      "clinton : Too many moms have to go back to work too soon after giving birth.\n",
      "https://t.co/aYxAdmuSAJ\n",
      "\n",
      "turn 2\n",
      "trump : Readout of my meeting with Israeli Prime Minister Benjamin Netanyahu:\n",
      "https://t.co/VHuyE65hgi https://t.co/6KDPrQxSED\n",
      "trump : I agree with Marco Rubio that Ted Cruz is a liar!\n",
      "\n",
      "turn 3\n",
      "trump : New York, we will make America great again! https://t.co/KyxbaW4fsL\n",
      "trump : \"@gene70: @FireFlyFury @megynkelly @realDonaldTrump And this is the bimbo that's asking presidential questions? https://t.co/oU1uUGnuWb\"\n",
      "\n",
      "turn 4\n",
      "trump : Under the leadership of Obama &amp; Clinton, Americans have experienced more attacks at home than victories abroad. Time to change the playbook!\n",
      "trump : Crooked Hillary Clinton lied to the FBI and to the people of our country. She is sooooo guilty. But watch, her time will come!\n",
      "\n"
     ]
    }
   ],
   "source": [
    "rd.write(evaled)"
   ]
  },
  {
   "cell_type": "markdown",
   "metadata": {},
   "source": [
    "### Файл run_generator.py\n",
    "\n",
    "Содержит функции для генерации и записи нескольких диалогов. Файл должен быть написан так, чтобы его можно было запускать через командную строку:\n",
    "<img src=\"../cmd.png\">\n",
    "Описание аргументов представлено на рисунке:\n",
    "<img src=\"../cmd_help.png\">\n",
    "Для разбора аргументов ипользуйте <a href=\"https://docs.python.org/3/howto/argparse.html\">модуль argparse</a>. Все представленные на рисунке аргументы должны быть обработаны (кроме help, он обрабатывается автоматически модулем argparse)."
   ]
  },
  {
   "cell_type": "code",
   "execution_count": 14,
   "metadata": {},
   "outputs": [
    {
     "name": "stdout",
     "output_type": "stream",
     "text": [
      "Hello World!\n"
     ]
    },
    {
     "name": "stderr",
     "output_type": "stream",
     "text": [
      "usage: ipykernel_launcher.py [-h]\n",
      "ipykernel_launcher.py: error: unrecognized arguments: -f /Users/volodden/Library/Jupyter/runtime/kernel-e1f5822b-263e-4afe-a228-bbc181480c96.json\n"
     ]
    },
    {
     "ename": "SystemExit",
     "evalue": "2",
     "output_type": "error",
     "traceback": [
      "An exception has occurred, use %tb to see the full traceback.\n",
      "\u001b[0;31mSystemExit\u001b[0m\u001b[0;31m:\u001b[0m 2\n"
     ]
    },
    {
     "name": "stderr",
     "output_type": "stream",
     "text": [
      "/Library/Frameworks/Python.framework/Versions/3.6/lib/python3.6/site-packages/IPython/core/interactiveshell.py:2918: UserWarning: To exit: use 'exit', 'quit', or Ctrl-D.\n",
      "  warn(\"To exit: use 'exit', 'quit', or Ctrl-D.\", stacklevel=1)\n"
     ]
    }
   ],
   "source": [
    "#См. сразу файл."
   ]
  },
  {
   "cell_type": "markdown",
   "metadata": {},
   "source": [
    "#### Пример использования функций из файла:"
   ]
  },
  {
   "cell_type": "code",
   "execution_count": null,
   "metadata": {},
   "outputs": [],
   "source": [
    "import sys\n",
    "from run_generator import generate, write"
   ]
  },
  {
   "cell_type": "code",
   "execution_count": null,
   "metadata": {},
   "outputs": [],
   "source": [
    "dialogs = generate(rd, 2)\n",
    "dialogs"
   ]
  },
  {
   "cell_type": "code",
   "execution_count": null,
   "metadata": {},
   "outputs": [],
   "source": [
    "write(dialogs, sys.stdout)"
   ]
  }
 ],
 "metadata": {
  "kernelspec": {
   "display_name": "Python 3",
   "language": "python",
   "name": "python3"
  },
  "language_info": {
   "codemirror_mode": {
    "name": "ipython",
    "version": 3
   },
   "file_extension": ".py",
   "mimetype": "text/x-python",
   "name": "python",
   "nbconvert_exporter": "python",
   "pygments_lexer": "ipython3",
   "version": "3.6.1"
  }
 },
 "nbformat": 4,
 "nbformat_minor": 2
}

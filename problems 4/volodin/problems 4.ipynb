{
 "cells": [
  {
   "cell_type": "markdown",
   "metadata": {},
   "source": [
    "# Задание 4"
   ]
  },
  {
   "cell_type": "markdown",
   "metadata": {},
   "source": [
    "## 1. Декоратор @cached (0.3 балла)"
   ]
  },
  {
   "cell_type": "markdown",
   "metadata": {},
   "source": [
    "#### Реализуйте класс для хранения результатов выполнения функции\n",
    "\n",
    "* max_count - максимальное число хранимых результатов. Если число результатов превышает max_count, требуется выбросить первый результат, т. е. в кеше должно храниться не более max_count последних результатов.\n",
    "* продумайте архитектуру кеша так, чтобы для функций:\n",
    "\n",
    "<code>\n",
    "@cached\n",
    "def f1():\n",
    "    pass\n",
    "\n",
    "@cached\n",
    "def f2():\n",
    "    pass\n",
    "</code>    \n",
    "должны иметь по max_count хранимых последних результатов, и т. д.\n",
    "\n",
    "<b>P. S.</b>\n",
    "\n",
    "* Считайте, что функция не имеет состояния (зависит только от передаваемых в нее аргументов).\n",
    "* Храните данные так, чтобы из функции нельзя напрямую было получить закешированные результаты (только через \\_\\_closer\\_\\_).\n",
    "\n",
    "<b>Рекомендации:</b>\n",
    "\n",
    "* Для хранения данных используйте OrderedDict.\n",
    "* Декорируйте wrapper с @functools.wraps(func)"
   ]
  },
  {
   "cell_type": "code",
   "execution_count": 1,
   "metadata": {},
   "outputs": [],
   "source": [
    "from collections import OrderedDict\n",
    "import functools"
   ]
  },
  {
   "cell_type": "code",
   "execution_count": 2,
   "metadata": {},
   "outputs": [],
   "source": [
    "DEBUG_MODE = False\n",
    "def mprint(*args, **kwargs):\n",
    "    if DEBUG_MODE:\n",
    "        print(*args, **kwargs)"
   ]
  },
  {
   "cell_type": "code",
   "execution_count": 3,
   "metadata": {},
   "outputs": [],
   "source": [
    "class LruCache(object):\n",
    "    def __init__(self, max_count):\n",
    "        self.dict = OrderedDict()\n",
    "        self.max_count = max_count\n",
    "\n",
    "    def __getitem__(self, key):\n",
    "        mprint('Hallo Get!')\n",
    "        return self.dict[key]\n",
    "    \n",
    "    def __setitem__(self, key, value):\n",
    "        mprint('Hallo Set!', key)\n",
    "        self.dict[key] = value\n",
    "        while len(self.dict) > self.max_count:\n",
    "            mprint('Remove from cache: ', list(self.dict.keys())[0])\n",
    "            self.dict.popitem(last=False)\n",
    "        \n",
    "    def cached(self, key):\n",
    "        try:\n",
    "            value = self.dict[key]\n",
    "            return True, value\n",
    "        except:\n",
    "            return False, _\n",
    "        \n",
    "        \n",
    "    pass"
   ]
  },
  {
   "cell_type": "markdown",
   "metadata": {},
   "source": [
    "#### Реализуйте декоратор"
   ]
  },
  {
   "cell_type": "code",
   "execution_count": 4,
   "metadata": {},
   "outputs": [],
   "source": [
    "def cached(max_count):\n",
    "    cache = LruCache(max_count)\n",
    "    mprint('Cache created! Cache size: {0}'.format(max_count))\n",
    "    def deprecated(func):\n",
    "        mprint('Func deprecated!')\n",
    "        @functools.wraps(func)\n",
    "        def wrapper(*args, **kwargs):\n",
    "            mprint('Func {0} wrapped! Arg: {1}'.format(func.__name__, args[0]))\n",
    "            cres, res = cache.cached((args, *kwargs))\n",
    "            if cres:\n",
    "                mprint('Cached!', res)\n",
    "            else:\n",
    "                res = func(*args, **kwargs)\n",
    "                cache[(args, *kwargs)] = res\n",
    "            return res\n",
    "        return wrapper\n",
    "    return deprecated"
   ]
  },
  {
   "cell_type": "markdown",
   "metadata": {},
   "source": [
    "#### Проверьте использование декоратора"
   ]
  },
  {
   "cell_type": "code",
   "execution_count": 5,
   "metadata": {},
   "outputs": [],
   "source": [
    "@cached(10)\n",
    "def fact(n):\n",
    "    if n < 2:\n",
    "        return 1\n",
    "    return fact(n-1) * n\n",
    "\n",
    "@cached(5)\n",
    "def fact1(n):\n",
    "    if n < 2:\n",
    "        return 1\n",
    "    return fact1(n-1) * n"
   ]
  },
  {
   "cell_type": "code",
   "execution_count": 6,
   "metadata": {
    "scrolled": false
   },
   "outputs": [
    {
     "name": "stdout",
     "output_type": "stream",
     "text": [
      "1307674368000\n",
      "10 OrderedDict([(((6,),), 720), (((7,),), 5040), (((8,),), 40320), (((9,),), 362880), (((10,),), 3628800), (((11,),), 39916800), (((12,),), 479001600), (((13,),), 6227020800), (((14,),), 87178291200), (((15,),), 1307674368000)])\n",
      "479001600\n",
      "40320\n",
      "3628800\n",
      "10 OrderedDict([(((6,),), 720), (((7,),), 5040), (((8,),), 40320), (((9,),), 362880), (((10,),), 3628800), (((11,),), 39916800), (((12,),), 479001600), (((13,),), 6227020800), (((14,),), 87178291200), (((15,),), 1307674368000)])\n",
      "5 OrderedDict([(((4,),), 24), (((5,),), 120), (((6,),), 720), (((7,),), 5040), (((8,),), 40320)])\n"
     ]
    }
   ],
   "source": [
    "print(fact(15))\n",
    "print(len(fact.__closure__[0].cell_contents.dict), fact.__closure__[0].cell_contents.dict)\n",
    "\n",
    "print(fact(12))\n",
    "\n",
    "print(fact1(8))\n",
    "\n",
    "print(fact(10))\n",
    "\n",
    "print(len(fact.__closure__[0].cell_contents.dict), fact.__closure__[0].cell_contents.dict)\n",
    "\n",
    "print(len(fact1.__closure__[0].cell_contents.dict), fact1.__closure__[0].cell_contents.dict)"
   ]
  },
  {
   "cell_type": "markdown",
   "metadata": {},
   "source": [
    "#### Сравните свою реализацию с lru_cache из functools"
   ]
  },
  {
   "cell_type": "code",
   "execution_count": 7,
   "metadata": {},
   "outputs": [
    {
     "name": "stdout",
     "output_type": "stream",
     "text": [
      "51090942171709440000\n",
      "['__call__', '__class__', '__delattr__', '__dir__', '__doc__', '__eq__', '__format__', '__ge__', '__getattribute__', '__gt__', '__hash__', '__init__', '__init_subclass__', '__le__', '__lt__', '__module__', '__name__', '__ne__', '__new__', '__qualname__', '__reduce__', '__reduce_ex__', '__repr__', '__self__', '__setattr__', '__sizeof__', '__str__', '__subclasshook__', '__text_signature__']\n",
      "<built-in method cache_info of functools._lru_cache_wrapper object at 0x104c51d68>\n"
     ]
    },
    {
     "data": {
      "text/plain": [
       "CacheInfo(hits=0, misses=21, maxsize=8, currsize=8)"
      ]
     },
     "execution_count": 7,
     "metadata": {},
     "output_type": "execute_result"
    }
   ],
   "source": [
    "from functools import lru_cache\n",
    "\n",
    "@lru_cache(8)\n",
    "def fact2(n):\n",
    "    if n < 2:\n",
    "        return 1\n",
    "    return fact2(n-1) * n\n",
    "\n",
    "print(fact2(21))\n",
    "print(dir(fact2.cache_info))\n",
    "print(fact2.cache_info)\n",
    "\n",
    "fact2.cache_info()"
   ]
  },
  {
   "cell_type": "markdown",
   "metadata": {},
   "source": [
    "### Дополнительное задание (0.2 балла)\n",
    "\n",
    "Дополните декоратор @cached так, чтобы не пересчитывать функцию при изменения ее состояния (например, она использовала глобальную переменную)"
   ]
  },
  {
   "cell_type": "code",
   "execution_count": 8,
   "metadata": {},
   "outputs": [],
   "source": [
    "#В LruCache добавилась функция cached, которая возвращает значение,\n",
    "#которое уже ранее возвращала функция при тех же переданных аргументах\n",
    "\n",
    "#UPD: нужно в OrderedList передавать не только argv и kwargs, но и переменные, которые функция получает извне (глобольные, например)"
   ]
  },
  {
   "cell_type": "markdown",
   "metadata": {
    "collapsed": true
   },
   "source": [
    "## 2. Декоратор @checked (0.3 балла)\n",
    "\n",
    "Напишите декоратор, который будет вызывать исключение (raise TypeError), если в него переданы аргументы не тех типов.\n",
    "\n",
    "<b>P. S.</b> Разберитесь с модулем typing.\n",
    "\n",
    "<b>Рекомендации:</b>\n",
    "\n",
    "* Декорируйте wrapper с @functools.wraps(func)\n",
    "* Чтобы кинуть иключение используйте конструкцию типа:\n",
    "<code>\n",
    "if < some_condtion >:\n",
    "    raise TypeError\n",
    "</code>"
   ]
  },
  {
   "cell_type": "code",
   "execution_count": 9,
   "metadata": {},
   "outputs": [],
   "source": [
    "def checked(*types):\n",
    "    mprint('Checker created!')\n",
    "    def deprecated(func):\n",
    "        mprint('Func deprecated!')\n",
    "        @functools.wraps(func)\n",
    "        def wrapper(*args, **kwargs):\n",
    "            mprint('Func {0} wrapped!'.format(func.__name__))\n",
    "            mprint(len(types), len(args))\n",
    "            if len(types) != len(args):\n",
    "                raise TypeError\n",
    "            for key_idx in range(len(args)):\n",
    "                mprint(types[key_idx], args[key_idx], type(args[key_idx]))\n",
    "                if not types[key_idx] is type(args[key_idx]):\n",
    "                    raise TypeError    \n",
    "            return func(*args, **kwargs)\n",
    "        return wrapper\n",
    "    return deprecated"
   ]
  },
  {
   "cell_type": "markdown",
   "metadata": {},
   "source": [
    "#### Проверьте использование декоратора"
   ]
  },
  {
   "cell_type": "code",
   "execution_count": 10,
   "metadata": {},
   "outputs": [],
   "source": [
    "from typing import List\n",
    "\n",
    "# Пример\n",
    "@checked(str, int, list)\n",
    "def strange_func(a: str, b: int, c: List):\n",
    "    return a + '|' + str(b) + '|' + 'O'.join(c)"
   ]
  },
  {
   "cell_type": "code",
   "execution_count": 11,
   "metadata": {},
   "outputs": [
    {
     "data": {
      "text/plain": [
       "'Ja|5|1O2O3'"
      ]
     },
     "execution_count": 11,
     "metadata": {},
     "output_type": "execute_result"
    }
   ],
   "source": [
    "strange_func('Ja', 5, ['1', '2', '3'])"
   ]
  },
  {
   "cell_type": "code",
   "execution_count": 12,
   "metadata": {},
   "outputs": [
    {
     "name": "stdout",
     "output_type": "stream",
     "text": [
      "Error\n"
     ]
    }
   ],
   "source": [
    "try:\n",
    "    strange_func('Ja', '5', ['1', '2', '3'])\n",
    "except TypeError as e:\n",
    "    print('Error')"
   ]
  },
  {
   "cell_type": "markdown",
   "metadata": {},
   "source": [
    "## 3. Декоратор @Logger (0.4 балла)\n",
    "\n",
    "Напишите полноценный logger для вызовов вашей функции. Декоратор должен иметь следующие опции:\n",
    "\n",
    "* Выбор файла в который будет производиться запись: sys.stdout, sys.stderr, локальный файл (передается путь к файлу, если файла нет, то создать, иначе дописывать в конец).\n",
    "* Формат записи в логера: \"<i>index data time functio_name \\*args \\**kwargs result</i>\"\n",
    "* Логер должен быть один для всех функций.\n",
    "\n",
    "<b>Рекомендации:</b>\n",
    "\n",
    "* Декорируйте wrapper с @functools.wraps(func)\n",
    "* Создайте отдельный класс Logger для работы с выводом данных вызовов функций в файл."
   ]
  },
  {
   "cell_type": "code",
   "execution_count": 13,
   "metadata": {},
   "outputs": [],
   "source": [
    "import sys\n",
    "import os\n",
    "import time"
   ]
  },
  {
   "cell_type": "code",
   "execution_count": 14,
   "metadata": {},
   "outputs": [],
   "source": [
    "class Logger():\n",
    "    \n",
    "    def __init__(self, dest=sys.stdout, fileName=''):\n",
    "        self.isIntoFile = False\n",
    "        \n",
    "        self.index = 0\n",
    "        \n",
    "        if dest == None and fileName == '':\n",
    "            self.dest = sys.stdout\n",
    "            return\n",
    "        if dest != None:\n",
    "            self.dest = dest\n",
    "            return\n",
    "        self.isIntoFile = True\n",
    "        self.dest = open(fileName, 'a')\n",
    "        \n",
    "    def write(self, func, *args, **kwargs):\n",
    "        \n",
    "        self.index += 1\n",
    "        \n",
    "        res = func(*args, **kwargs)\n",
    "        strToWrite = '{0}, {1}, func_name: {2}, args: [{3}], kwargs: [{4}], result: [{5}]'.format(str(self.index), \\\n",
    "                                                                time.ctime(), func.__name__, \\\n",
    "                                                                args, kwargs, res)\n",
    "        self.dest.write(strToWrite)\n",
    "        \n",
    "        return res\n",
    "        \n",
    "    def __del__(self):\n",
    "        if self.isIntoFile:\n",
    "            self.dest.close()\n",
    "            \n",
    "logger = Logger()"
   ]
  },
  {
   "cell_type": "code",
   "execution_count": 15,
   "metadata": {},
   "outputs": [],
   "source": [
    "def log(func):\n",
    "    mprint('Log created!')\n",
    "    @functools.wraps(func)\n",
    "    def wrapper(*args, **kwargs):\n",
    "        mprint('Func {0} wrapped!'.format(func.__name__))\n",
    "        return logger.write(func, *args, **kwargs)\n",
    "    return wrapper"
   ]
  },
  {
   "cell_type": "code",
   "execution_count": 16,
   "metadata": {},
   "outputs": [
    {
     "name": "stdout",
     "output_type": "stream",
     "text": [
      "5 * 6 + 7 = 37\n",
      "1, Sun Oct 15 13:28:21 2017, func_name: some_func, args: [(5, 6, 7)], kwargs: [{}], result: [37]"
     ]
    },
    {
     "data": {
      "text/plain": [
       "37"
      ]
     },
     "execution_count": 16,
     "metadata": {},
     "output_type": "execute_result"
    }
   ],
   "source": [
    "@log\n",
    "@checked(int, int, int)\n",
    "def some_func(a: int, b: int, c: int):\n",
    "    res = a * b + c\n",
    "    print('{0} * {1} + {2} = {3}'.format(a, b, c, res))\n",
    "    return res\n",
    "\n",
    "some_func(5, 6, 7)"
   ]
  },
  {
   "cell_type": "code",
   "execution_count": 17,
   "metadata": {},
   "outputs": [
    {
     "name": "stdout",
     "output_type": "stream",
     "text": [
      "1 * 2 + 3 = 5\n",
      "2, Sun Oct 15 13:28:21 2017, func_name: some_func, args: [(1, 2, 3)], kwargs: [{}], result: [5]"
     ]
    },
    {
     "data": {
      "text/plain": [
       "5"
      ]
     },
     "execution_count": 17,
     "metadata": {},
     "output_type": "execute_result"
    }
   ],
   "source": [
    "some_func(1, 2, 3)"
   ]
  },
  {
   "cell_type": "code",
   "execution_count": 18,
   "metadata": {},
   "outputs": [
    {
     "name": "stdout",
     "output_type": "stream",
     "text": [
      "Error\n"
     ]
    }
   ],
   "source": [
    "try:\n",
    "    some_func(1, 2, \"error\")\n",
    "except TypeError as te:\n",
    "    print('Error')"
   ]
  },
  {
   "cell_type": "code",
   "execution_count": null,
   "metadata": {},
   "outputs": [],
   "source": []
  }
 ],
 "metadata": {
  "kernelspec": {
   "display_name": "Python 3",
   "language": "python",
   "name": "python3"
  },
  "language_info": {
   "codemirror_mode": {
    "name": "ipython",
    "version": 3
   },
   "file_extension": ".py",
   "mimetype": "text/x-python",
   "name": "python",
   "nbconvert_exporter": "python",
   "pygments_lexer": "ipython3",
   "version": "3.6.1"
  }
 },
 "nbformat": 4,
 "nbformat_minor": 2
}

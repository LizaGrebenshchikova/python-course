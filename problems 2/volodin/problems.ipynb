{
 "cells": [
  {
   "cell_type": "code",
   "execution_count": 1,
   "metadata": {},
   "outputs": [],
   "source": [
    "import chardet\n",
    "import langdetect"
   ]
  },
  {
   "cell_type": "code",
   "execution_count": 2,
   "metadata": {},
   "outputs": [],
   "source": [
    "def get_data_from_file(file_name):\n",
    "    \n",
    "    data = []\n",
    "    with open(file_name) as f:\n",
    "        for x in f:\n",
    "            data.append(x)\n",
    "            \n",
    "    return ' '.join(data)"
   ]
  },
  {
   "cell_type": "markdown",
   "metadata": {},
   "source": [
    "Для определения языка использую библиотеку langdetect.\n",
    "Результаты (и точность определения) можно видеть ниже."
   ]
  },
  {
   "cell_type": "code",
   "execution_count": 3,
   "metadata": {},
   "outputs": [
    {
     "name": "stdout",
     "output_type": "stream",
     "text": [
      "zh-tw:0.8571391944523183 ko:0.14285755948072487\n",
      "en:0.9999979140655186\n",
      "ja:0.9999999999362037\n"
     ]
    }
   ],
   "source": [
    "dataf1 = get_data_from_file('../2.tmp')\n",
    "print(*langdetect.detect_langs(dataf1))\n",
    "dataf2 = get_data_from_file('../3.tmp')\n",
    "print(*langdetect.detect_langs(dataf2))\n",
    "dataf3 = get_data_from_file('../4.tmp')\n",
    "print(*langdetect.detect_langs(dataf3))"
   ]
  },
  {
   "cell_type": "code",
   "execution_count": null,
   "metadata": {},
   "outputs": [],
   "source": []
  }
 ],
 "metadata": {
  "kernelspec": {
   "display_name": "Python 3",
   "language": "python",
   "name": "python3"
  },
  "language_info": {
   "codemirror_mode": {
    "name": "ipython",
    "version": 3
   },
   "file_extension": ".py",
   "mimetype": "text/x-python",
   "name": "python",
   "nbconvert_exporter": "python",
   "pygments_lexer": "ipython3",
   "version": "3.6.1"
  }
 },
 "nbformat": 4,
 "nbformat_minor": 2
}

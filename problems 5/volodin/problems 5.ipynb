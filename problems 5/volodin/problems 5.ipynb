{
 "cells": [
  {
   "cell_type": "markdown",
   "metadata": {},
   "source": [
    "# Задание 5"
   ]
  },
  {
   "cell_type": "markdown",
   "metadata": {},
   "source": [
    "## 1. ContextTimer(0.3 балла)\n",
    "Напишите менеджер контекста, который позволит засекать время выполнения блока кода с помощью конструкции with и выводить это время на экран по выходу из блока. Пример использования:\n",
    "\n",
    "<code>\n",
    "with Timer ():\n",
    "    do_some_long_stuff()\n",
    "</code>\n",
    "\n",
    "Рекомендации: используйте стандартную библиотеку для работы со временем.\n",
    "\n",
    "Протестируйте себя."
   ]
  },
  {
   "cell_type": "code",
   "execution_count": 1,
   "metadata": {},
   "outputs": [],
   "source": [
    "import time\n",
    "\n",
    "class Timer():\n",
    "    \n",
    "    def __init__(self):\n",
    "        self.time_start = 0\n",
    "        self.time_finish = 0\n",
    "        \n",
    "    def __enter__(self):\n",
    "        self.time_start = time.time()\n",
    "        \n",
    "    def __exit__(self, *args):\n",
    "        self.time_finish = time.time()\n",
    "        \n",
    "        t = self.time_finish - self.time_start\n",
    "        print(\"Work: {0} minutes {1} seconds\".format(int(t // 60), int(t % 60)))\n",
    "        print(t)\n",
    "        \n",
    "        self.time_start = 0\n",
    "        self.time_finish = 0"
   ]
  },
  {
   "cell_type": "code",
   "execution_count": 2,
   "metadata": {},
   "outputs": [
    {
     "name": "stdout",
     "output_type": "stream",
     "text": [
      "Work: 0 minutes 23 seconds\n",
      "23.779927968978882\n",
      "CPU times: user 55.2 ms, sys: 48 ms, total: 103 ms\n",
      "Wall time: 23.8 s\n"
     ]
    }
   ],
   "source": [
    "%%time\n",
    "\n",
    "import os\n",
    "with Timer():\n",
    "    path_to_dir = \"../../problems 8/volodin/paths/\"\n",
    "    \n",
    "    files = os.listdir(path_to_dir)\n",
    "    if '.DS_Store' in files:\n",
    "        files.remove('.DS_Store')\n",
    "        \n",
    "    for f in files:\n",
    "        file_path = path_to_dir + '/' + f\n",
    "        with open(file_path, 'r') as file:\n",
    "            a = file.read()\n",
    "            #print(a)\n",
    "            time.sleep(0.1)"
   ]
  },
  {
   "cell_type": "markdown",
   "metadata": {},
   "source": [
    "## 2.Transaction (0.4 балла)\n",
    "Вам необходимо написать менеджер контекстов, который позволит безопасно работать с транзакциями. Напишите класс Storage, в котором будут храниться какие-то данные в виде словаря. Эти данные должны быть закрытыми и их можно только читать через операцию []. У этого класса должен быть метод edit, который возвращает менеджер контекста, позволяющий редактировать исходный объект (опять же через []). При этом результаты редактирования записываются в исходный объект только если весь блок выполнился успешно. Пример использования:\n",
    "\n",
    "<code>\n",
    "s = Storage()\n",
    "with s.edit() as se :\n",
    "    se[\"a\"] = 1\n",
    "    may_be_an_exception_here()\n",
    "</code>\n",
    "\n",
    "Протестируйте себя."
   ]
  },
  {
   "cell_type": "code",
   "execution_count": 3,
   "metadata": {},
   "outputs": [],
   "source": [
    "class Storage():\n",
    "\n",
    "    class Data():\n",
    "\n",
    "        def __init__(self):\n",
    "            self.__data__ = {}\n",
    "            self.__datacopy__ = {}\n",
    "\n",
    "        def __enter__(self):\n",
    "            self.__datacopy__ = self.__data__.copy()\n",
    "            return self.__datacopy__\n",
    "\n",
    "        def __exit__(self, *args):\n",
    "            isOK = True\n",
    "            for arg in args:\n",
    "                if arg != None:\n",
    "                    isOK = False\n",
    "                    \n",
    "            if isOK:\n",
    "                self.__data__ = self.__datacopy__.copy()\n",
    "                \n",
    "        def printData(self):\n",
    "            print(self.__data__)\n",
    "    \n",
    "    def __init__(self):\n",
    "        self.__data__ = Storage.Data()\n",
    "\n",
    "    def edit(self):\n",
    "        return self.__data__\n",
    "    \n",
    "    def printData(self):\n",
    "        self.__data__.printData()\n",
    "\n",
    "pass"
   ]
  },
  {
   "cell_type": "code",
   "execution_count": 4,
   "metadata": {},
   "outputs": [
    {
     "name": "stdout",
     "output_type": "stream",
     "text": [
      "division by zero\n",
      "{}\n",
      "{'a': 1}\n",
      "{'a': 2}\n",
      "division by zero\n",
      "{'a': 2}\n"
     ]
    }
   ],
   "source": [
    "s = Storage()\n",
    "\n",
    "try:\n",
    "    with s.edit() as se:\n",
    "        se[\"c\"] = 2\n",
    "        print(1/0)\n",
    "except Exception as e:\n",
    "    print(e)\n",
    "finally:\n",
    "    s.printData()\n",
    "    \n",
    "try:\n",
    "    with s.edit() as se:\n",
    "        se[\"a\"] = 1\n",
    "except Exception as e:\n",
    "    print(e)\n",
    "finally:\n",
    "    s.printData()\n",
    "    \n",
    "try:\n",
    "    with s.edit() as se:\n",
    "        se[\"a\"] = 2\n",
    "except Exception as e:\n",
    "    print(e)\n",
    "finally:\n",
    "    s.printData()\n",
    "    \n",
    "try:\n",
    "    with s.edit() as se:\n",
    "        se[\"a\"] = 3\n",
    "        se[\"b\"] = 1\n",
    "        print(1/0)\n",
    "        se[\"c\"] = 1\n",
    "except Exception as e:\n",
    "    print(e)\n",
    "finally:\n",
    "    s.printData()"
   ]
  },
  {
   "cell_type": "markdown",
   "metadata": {},
   "source": [
    "## Phone numbers (0.3)\n",
    "Напишите регулярное выражение для распознавания телефонных номеров и протестируйте себя. Номера, которые должны распознаваться:\n",
    "* 3-22-46\n",
    "* +71239513749\n",
    "* 71239513749\n",
    "* 1239513749\n",
    "* +7(123)-951-37-49\n",
    "* +7(123)9513749\n",
    "* +7-123-9513749\n",
    "* +7-123-951-37-49\n",
    "\n",
    "* 7(123)-951-37-49\n",
    "* 7(123)9513749\n",
    "* 7-123-9513749\n",
    "* 7-123-951-37-49\n",
    "\n",
    "* (123)-951-37-49\n",
    "* (123)9513749\n",
    "* 123-9513749\n",
    "* 123-951-37-49"
   ]
  },
  {
   "cell_type": "code",
   "execution_count": 5,
   "metadata": {},
   "outputs": [
    {
     "name": "stdout",
     "output_type": "stream",
     "text": [
      "['3-22-46', '+71239513749', '71239513749', '1239513749', '+7(123)-951-37-49', '+7(123)9513749', '+7-123-9513749', '+7-123-951-37-49', '7(123)-951-37-49', '7(123)9513749', '7-123-9513749', '7-123-951-37-49', '(123)-951-37-49', '(123)9513749', '123-9513749', '123-951-37-49']\n"
     ]
    }
   ],
   "source": [
    "numbers = ['3-22-46',\n",
    "'+71239513749',\n",
    "'71239513749',\n",
    "'1239513749',\n",
    "'+7(123)-951-37-49',\n",
    "'+7(123)9513749',\n",
    "'+7-123-9513749',\n",
    "'+7-123-951-37-49',\n",
    "'7(123)-951-37-49',\n",
    "'7(123)9513749',\n",
    "'7-123-9513749',\n",
    "'7-123-951-37-49',\n",
    "'(123)-951-37-49',\n",
    "'(123)9513749',\n",
    "'123-9513749',\n",
    "'123-951-37-49']\n",
    "\n",
    "print(numbers)"
   ]
  },
  {
   "cell_type": "code",
   "execution_count": 6,
   "metadata": {},
   "outputs": [],
   "source": [
    "import re\n",
    "\n",
    "def check(number):\n",
    "    pattern = re.compile(r'(\\+?7\\-?)?(\\(\\d\\d\\d\\)\\-?)?((\\d+)\\-)*\\d+')\n",
    "    #print(pattern)\n",
    "    res = re.match(pattern, number)\n",
    "    if res == None:\n",
    "        print(number)\n",
    "        return False\n",
    "    length = res.end() - res.start()\n",
    "    return length == len(number)"
   ]
  },
  {
   "cell_type": "code",
   "execution_count": 7,
   "metadata": {},
   "outputs": [
    {
     "name": "stdout",
     "output_type": "stream",
     "text": [
      "True 3-22-46\n",
      "True +71239513749\n",
      "True 71239513749\n",
      "True 1239513749\n",
      "True +7(123)-951-37-49\n",
      "True +7(123)9513749\n",
      "True +7-123-9513749\n",
      "True +7-123-951-37-49\n",
      "True 7(123)-951-37-49\n",
      "True 7(123)9513749\n",
      "True 7-123-9513749\n",
      "True 7-123-951-37-49\n",
      "True (123)-951-37-49\n",
      "True (123)9513749\n",
      "True 123-9513749\n",
      "True 123-951-37-49\n"
     ]
    }
   ],
   "source": [
    "for n in numbers:\n",
    "    print(check(n), n)"
   ]
  },
  {
   "cell_type": "code",
   "execution_count": null,
   "metadata": {},
   "outputs": [],
   "source": []
  }
 ],
 "metadata": {
  "kernelspec": {
   "display_name": "Python 3",
   "language": "python",
   "name": "python3"
  },
  "language_info": {
   "codemirror_mode": {
    "name": "ipython",
    "version": 3
   },
   "file_extension": ".py",
   "mimetype": "text/x-python",
   "name": "python",
   "nbconvert_exporter": "python",
   "pygments_lexer": "ipython3",
   "version": "3.6.1"
  }
 },
 "nbformat": 4,
 "nbformat_minor": 2
}

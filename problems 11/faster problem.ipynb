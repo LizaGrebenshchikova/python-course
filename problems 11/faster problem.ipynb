{
 "cells": [
  {
   "cell_type": "markdown",
   "metadata": {},
   "source": [
    "# Задание 11"
   ]
  },
  {
   "cell_type": "markdown",
   "metadata": {},
   "source": [
    "Это задание является дополнительным и его баллы не входят в число дз!!! Оба пункта оцениваются по 0.5 баллов. Можно использовать любые библиотеки и алгоритмы.\n",
    "\n",
    "1. Попробуйте ускорить функции ifunc и get_grids в первом задании. Проведите сравнения \"старой\" и \"новой\" реализации.\n",
    "2. Попробуйте подобрать случайный пример большой размерности и с ним пробовать ускорить выполнение программы.  Проведите сравнения \"старой\" и \"новой\" реализации.\n",
    "3. Ускорить рабоут классификатора спама (его обучение) и (если возможно) классификацию."
   ]
  }
 ],
 "metadata": {
  "kernelspec": {
   "display_name": "Python 3",
   "language": "python",
   "name": "python3"
  },
  "language_info": {
   "codemirror_mode": {
    "name": "ipython",
    "version": 3
   },
   "file_extension": ".py",
   "mimetype": "text/x-python",
   "name": "python",
   "nbconvert_exporter": "python",
   "pygments_lexer": "ipython3",
   "version": "3.6.0"
  }
 },
 "nbformat": 4,
 "nbformat_minor": 2
}
